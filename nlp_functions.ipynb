{
  "nbformat": 4,
  "nbformat_minor": 0,
  "metadata": {
    "colab": {
      "provenance": [],
      "authorship_tag": "ABX9TyPwej6YkmYw8k+oXW5YlaPb",
      "include_colab_link": true
    },
    "kernelspec": {
      "name": "python3",
      "display_name": "Python 3"
    },
    "language_info": {
      "name": "python"
    }
  },
  "cells": [
    {
      "cell_type": "markdown",
      "metadata": {
        "id": "view-in-github",
        "colab_type": "text"
      },
      "source": [
        "<a href=\"https://colab.research.google.com/github/vifirsanova/hse-python-course/blob/main/nlp_functions.ipynb\" target=\"_parent\"><img src=\"https://colab.research.google.com/assets/colab-badge.svg\" alt=\"Open In Colab\"/></a>"
      ]
    },
    {
      "cell_type": "markdown",
      "source": [
        "1. Токенизатор\n",
        "\n",
        "- принимает текст\n",
        "- 2 режима работы: токенизация по словам и по символам\n",
        "- возвращает список токенов текста"
      ],
      "metadata": {
        "id": "4Lr_2g06r1RK"
      }
    },
    {
      "cell_type": "code",
      "execution_count": null,
      "metadata": {
        "id": "uQjmqPJarXSV"
      },
      "outputs": [],
      "source": [
        "# ваш код здесь"
      ]
    },
    {
      "cell_type": "markdown",
      "source": [
        "* добавьте приведение к нижнему регистру\n",
        "  - по умолчанию не изменяем регистр"
      ],
      "metadata": {
        "id": "YM-7HYPCsPOs"
      }
    },
    {
      "cell_type": "code",
      "source": [
        "# ваш код здесь"
      ],
      "metadata": {
        "id": "Wt407pEMrY6D"
      },
      "execution_count": null,
      "outputs": []
    },
    {
      "cell_type": "markdown",
      "source": [
        "* добавьте чистку по регулярному выражению\n",
        "  - опишите 3 режима\n",
        "    1. удаление всей пунктуации\n",
        "    2. удаление всех символов кроме alphanumertic, точек, запятых, вопросительных и восклицательных знаков\n",
        "    3. не применяем регулярки вообще"
      ],
      "metadata": {
        "id": "Haj7E6-psfy4"
      }
    },
    {
      "cell_type": "code",
      "source": [
        "# ваш код здесь"
      ],
      "metadata": {
        "id": "TW7qieCTs7U0"
      },
      "execution_count": null,
      "outputs": []
    },
    {
      "cell_type": "markdown",
      "source": [
        "2. NLP-процессор\n",
        "\n",
        "- выберите 3 функции из Spacy, например, лемматизацию, выделение частей речи и разметку именованных сущностей\n",
        "- функция принимает вход и возвращает словарь вида: текст - список лемм - список частей речи - список сущностей"
      ],
      "metadata": {
        "id": "0Pxx_aA2s8-h"
      }
    },
    {
      "cell_type": "code",
      "source": [
        "# ваш код здесь"
      ],
      "metadata": {
        "id": "5PGpVg_QtPzr"
      },
      "execution_count": null,
      "outputs": []
    },
    {
      "cell_type": "markdown",
      "source": [
        "3. Поиск синонимов\n",
        "\n",
        "- изучите функционал wordnet\n",
        "- напишите функцию, которая вытаскивает синонимы для данного слова\n",
        "- функция возвращает список уникальных синонимов и не включает в список данное слово"
      ],
      "metadata": {
        "id": "x9ohCnsqtSgz"
      }
    },
    {
      "cell_type": "code",
      "source": [
        "import nltk\n",
        "from nltk.corpus import wordnet\n",
        "\n",
        "nltk.download('wordnet')\n",
        "\n",
        "wordnet.synsets('good')"
      ],
      "metadata": {
        "colab": {
          "base_uri": "https://localhost:8080/"
        },
        "id": "ecxpCM68txuO",
        "outputId": "bf2e9846-ae98-4e60-8d4d-1ecea6497109"
      },
      "execution_count": 21,
      "outputs": [
        {
          "output_type": "stream",
          "name": "stderr",
          "text": [
            "[nltk_data] Downloading package wordnet to /root/nltk_data...\n",
            "[nltk_data]   Package wordnet is already up-to-date!\n"
          ]
        },
        {
          "output_type": "execute_result",
          "data": {
            "text/plain": [
              "[Synset('good.n.01'),\n",
              " Synset('good.n.02'),\n",
              " Synset('good.n.03'),\n",
              " Synset('commodity.n.01'),\n",
              " Synset('good.a.01'),\n",
              " Synset('full.s.06'),\n",
              " Synset('good.a.03'),\n",
              " Synset('estimable.s.02'),\n",
              " Synset('beneficial.s.01'),\n",
              " Synset('good.s.06'),\n",
              " Synset('good.s.07'),\n",
              " Synset('adept.s.01'),\n",
              " Synset('good.s.09'),\n",
              " Synset('dear.s.02'),\n",
              " Synset('dependable.s.04'),\n",
              " Synset('good.s.12'),\n",
              " Synset('good.s.13'),\n",
              " Synset('effective.s.04'),\n",
              " Synset('good.s.15'),\n",
              " Synset('good.s.16'),\n",
              " Synset('good.s.17'),\n",
              " Synset('good.s.18'),\n",
              " Synset('good.s.19'),\n",
              " Synset('good.s.20'),\n",
              " Synset('good.s.21'),\n",
              " Synset('well.r.01'),\n",
              " Synset('thoroughly.r.02')]"
            ]
          },
          "metadata": {},
          "execution_count": 21
        }
      ]
    },
    {
      "cell_type": "code",
      "source": [
        "for s in wordnet.synsets('good'):\n",
        "  print(s.lemmas())\n",
        "  for l in s.lemmas():\n",
        "    print(l.name())\n",
        "  print()"
      ],
      "metadata": {
        "colab": {
          "base_uri": "https://localhost:8080/"
        },
        "id": "RxgvvC1_t5E6",
        "outputId": "c3ce4407-5414-42da-ef52-8e4d700f11b3"
      },
      "execution_count": 26,
      "outputs": [
        {
          "output_type": "stream",
          "name": "stdout",
          "text": [
            "[Lemma('good.n.01.good')]\n",
            "good\n",
            "\n",
            "[Lemma('good.n.02.good'), Lemma('good.n.02.goodness')]\n",
            "good\n",
            "goodness\n",
            "\n",
            "[Lemma('good.n.03.good'), Lemma('good.n.03.goodness')]\n",
            "good\n",
            "goodness\n",
            "\n",
            "[Lemma('commodity.n.01.commodity'), Lemma('commodity.n.01.trade_good'), Lemma('commodity.n.01.good')]\n",
            "commodity\n",
            "trade_good\n",
            "good\n",
            "\n",
            "[Lemma('good.a.01.good')]\n",
            "good\n",
            "\n",
            "[Lemma('full.s.06.full'), Lemma('full.s.06.good')]\n",
            "full\n",
            "good\n",
            "\n",
            "[Lemma('good.a.03.good')]\n",
            "good\n",
            "\n",
            "[Lemma('estimable.s.02.estimable'), Lemma('estimable.s.02.good'), Lemma('estimable.s.02.honorable'), Lemma('estimable.s.02.respectable')]\n",
            "estimable\n",
            "good\n",
            "honorable\n",
            "respectable\n",
            "\n",
            "[Lemma('beneficial.s.01.beneficial'), Lemma('beneficial.s.01.good')]\n",
            "beneficial\n",
            "good\n",
            "\n",
            "[Lemma('good.s.06.good')]\n",
            "good\n",
            "\n",
            "[Lemma('good.s.07.good'), Lemma('good.s.07.just'), Lemma('good.s.07.upright')]\n",
            "good\n",
            "just\n",
            "upright\n",
            "\n",
            "[Lemma('adept.s.01.adept'), Lemma('adept.s.01.expert'), Lemma('adept.s.01.good'), Lemma('adept.s.01.practiced'), Lemma('adept.s.01.proficient'), Lemma('adept.s.01.skillful'), Lemma('adept.s.01.skilful')]\n",
            "adept\n",
            "expert\n",
            "good\n",
            "practiced\n",
            "proficient\n",
            "skillful\n",
            "skilful\n",
            "\n",
            "[Lemma('good.s.09.good')]\n",
            "good\n",
            "\n",
            "[Lemma('dear.s.02.dear'), Lemma('dear.s.02.good'), Lemma('dear.s.02.near')]\n",
            "dear\n",
            "good\n",
            "near\n",
            "\n",
            "[Lemma('dependable.s.04.dependable'), Lemma('dependable.s.04.good'), Lemma('dependable.s.04.safe'), Lemma('dependable.s.04.secure')]\n",
            "dependable\n",
            "good\n",
            "safe\n",
            "secure\n",
            "\n",
            "[Lemma('good.s.12.good'), Lemma('good.s.12.right'), Lemma('good.s.12.ripe')]\n",
            "good\n",
            "right\n",
            "ripe\n",
            "\n",
            "[Lemma('good.s.13.good'), Lemma('good.s.13.well')]\n",
            "good\n",
            "well\n",
            "\n",
            "[Lemma('effective.s.04.effective'), Lemma('effective.s.04.good'), Lemma('effective.s.04.in_effect'), Lemma('effective.s.04.in_force')]\n",
            "effective\n",
            "good\n",
            "in_effect\n",
            "in_force\n",
            "\n",
            "[Lemma('good.s.15.good')]\n",
            "good\n",
            "\n",
            "[Lemma('good.s.16.good'), Lemma('good.s.16.serious')]\n",
            "good\n",
            "serious\n",
            "\n",
            "[Lemma('good.s.17.good'), Lemma('good.s.17.sound')]\n",
            "good\n",
            "sound\n",
            "\n",
            "[Lemma('good.s.18.good'), Lemma('good.s.18.salutary')]\n",
            "good\n",
            "salutary\n",
            "\n",
            "[Lemma('good.s.19.good'), Lemma('good.s.19.honest')]\n",
            "good\n",
            "honest\n",
            "\n",
            "[Lemma('good.s.20.good'), Lemma('good.s.20.undecomposed'), Lemma('good.s.20.unspoiled'), Lemma('good.s.20.unspoilt')]\n",
            "good\n",
            "undecomposed\n",
            "unspoiled\n",
            "unspoilt\n",
            "\n",
            "[Lemma('good.s.21.good')]\n",
            "good\n",
            "\n",
            "[Lemma('well.r.01.well'), Lemma('well.r.01.good')]\n",
            "well\n",
            "good\n",
            "\n",
            "[Lemma('thoroughly.r.02.thoroughly'), Lemma('thoroughly.r.02.soundly'), Lemma('thoroughly.r.02.good')]\n",
            "thoroughly\n",
            "soundly\n",
            "good\n",
            "\n"
          ]
        }
      ]
    },
    {
      "cell_type": "code",
      "source": [
        "# ваш код здесь"
      ],
      "metadata": {
        "colab": {
          "base_uri": "https://localhost:8080/"
        },
        "id": "eIOo1RYqtZzE",
        "outputId": "6320f470-32e1-4cbc-d26f-2435a665b868"
      },
      "execution_count": 6,
      "outputs": [
        {
          "output_type": "stream",
          "name": "stdout",
          "text": [
            "Синонимы для слова 'good': ['sound', 'full', 'upright', 'practiced', 'thoroughly', 'undecomposed', 'skilful', 'serious', 'skillful', 'ripe', 'just', 'effective', 'trade_good', 'salutary', 'in_force', 'commodity', 'honest', 'goodness', 'dear', 'expert', 'estimable', 'unspoilt', 'dependable', 'adept', 'secure', 'near', 'right', 'unspoiled', 'well', 'respectable', 'safe', 'in_effect', 'soundly', 'proficient', 'honorable', 'beneficial']\n"
          ]
        },
        {
          "output_type": "stream",
          "name": "stderr",
          "text": [
            "[nltk_data] Downloading package wordnet to /root/nltk_data...\n",
            "[nltk_data]   Package wordnet is already up-to-date!\n"
          ]
        }
      ]
    }
  ]
}