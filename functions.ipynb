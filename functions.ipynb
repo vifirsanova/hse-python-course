{
  "nbformat": 4,
  "nbformat_minor": 0,
  "metadata": {
    "colab": {
      "provenance": [],
      "authorship_tag": "ABX9TyMClYFziFxDFXzjp8KFMQW7",
      "include_colab_link": true
    },
    "kernelspec": {
      "name": "python3",
      "display_name": "Python 3"
    },
    "language_info": {
      "name": "python"
    }
  },
  "cells": [
    {
      "cell_type": "markdown",
      "metadata": {
        "id": "view-in-github",
        "colab_type": "text"
      },
      "source": [
        "<a href=\"https://colab.research.google.com/github/vifirsanova/hse-python-course/blob/main/functions.ipynb\" target=\"_parent\"><img src=\"https://colab.research.google.com/assets/colab-badge.svg\" alt=\"Open In Colab\"/></a>"
      ]
    },
    {
      "cell_type": "markdown",
      "source": [
        "Синтаксис функции с оператором **def**\n",
        "```\n",
        "def function_name(a, b):\n",
        "    \"\"\"\n",
        "    docstrings: это строка для документации\n",
        "\n",
        "    a - первый аргумент функции,\n",
        "        здесь мы можем указать ограничение на его тип данных (int)\n",
        "    b - второй аргумент функции (int)\n",
        "\n",
        "    return: здесь можно прописать, что наша функция возвращает\n",
        "            например, сумму чисел a и b с типом (int)\n",
        "    \"\"\"\n",
        "    # тело функции\n",
        "    result = a + b\n",
        "\n",
        "    return result # результат\n",
        "\n",
        "result = function_name(1, 2) # результат из return записывается в переменную\n",
        "print(result)\n",
        "```"
      ],
      "metadata": {
        "id": "Ig173WRuUs4G"
      }
    },
    {
      "cell_type": "markdown",
      "source": [
        "Функция без **return**\n",
        "```\n",
        "def function_name(a, b):\n",
        "\n",
        "    result = a + b\n",
        "\n",
        "    print(result)\n",
        "\n",
        "function_name(1, 2)\n",
        "```\n",
        "\n",
        "`return` - это опциальный аргумент, его не обязательно использовать для работы функции\n",
        "\n",
        "Например, если ваша функция что-то `print`ит, можно обойтись без `return`"
      ],
      "metadata": {
        "id": "KKxZEN2PVfL0"
      }
    },
    {
      "cell_type": "markdown",
      "source": [
        "Параметры **по умолчанию**\n",
        "\n",
        "```\n",
        "def function_name(a=1, b):\n",
        "\n",
        "    result = a + b\n",
        "\n",
        "    print(result)\n",
        "\n",
        "function_name(2)\n",
        "function_name(a=2, b=2)\n",
        "```\n",
        "`a=1` - параметр по умолчанию\n",
        "\n",
        "При использовании вашей функции, если не указать значение `a` напрямую, оно вызовется автоматически"
      ],
      "metadata": {
        "id": "7QmP8F-TWpYa"
      }
    },
    {
      "cell_type": "markdown",
      "source": [
        "**Задача 1**. Создать функцию без параметров\n",
        "\n",
        "- функция не принимает на вход ничего\n",
        "- функция выводит на экран слово \"hello\"\n",
        "- функция ничего не возвращает\n",
        "\n",
        "Напишите функцию, дайте ей имя `say_hello`, вызовите функцию."
      ],
      "metadata": {
        "id": "_Wdjn-JCY15U"
      }
    },
    {
      "cell_type": "code",
      "execution_count": 1,
      "metadata": {
        "id": "7UGIIAK5UsPz"
      },
      "outputs": [],
      "source": [
        "# ваш код здесь"
      ]
    },
    {
      "cell_type": "markdown",
      "source": [
        "**Задача 2**. Создать функцию с параметрами\n",
        "\n",
        "- функция не принимает на вход имя (str)\n",
        "- функция выводит на экран слово \"hello, {username}!\"\n",
        "- функция ничего не возвращает\n",
        "\n",
        "Напишите функцию, дайте ей имя `say_hello`, вызовите функцию."
      ],
      "metadata": {
        "id": "0ugCXt7CZYEo"
      }
    },
    {
      "cell_type": "code",
      "source": [
        "# ваш код здесь"
      ],
      "metadata": {
        "id": "twYGIn7aZXTT"
      },
      "execution_count": null,
      "outputs": []
    },
    {
      "cell_type": "markdown",
      "source": [
        "**Задача 3**. Создать функцию с параметрами по умолчанию\n",
        "\n",
        "- функция не принимает на вход имя (str)\n",
        "- функция принимает на вход один из трёх параметров аргмента `type`: `standard` (по умолчанию), `friendly`, `starwars`\n",
        "- если значение `type` равно `standard`, то функция выводит на экран слово \"hello, {username}!\"\n",
        "- если значение `type` равно `friendly`, то функция выводит на экран слово \"hello, {username}! what a great day to learn Python\"\n",
        "- если значение `type` равно `starwars`, то функция выводит на экран слово \"hello there, {username}!\"\n",
        "- функция ничего не возвращает\n",
        "\n",
        "Напишите функцию, дайте ей имя `say_hello`, вызовите функцию."
      ],
      "metadata": {
        "id": "Mh_CaFU2ZppW"
      }
    },
    {
      "cell_type": "code",
      "source": [
        "# ваш код здесь"
      ],
      "metadata": {
        "id": "d2bQwpGyk3Dw"
      },
      "execution_count": null,
      "outputs": []
    },
    {
      "cell_type": "markdown",
      "source": [
        "**Задача 4**. Создать функцию с возвратом значения\n",
        "\n",
        "- функция принимает на вход 2 числа и возвращает их сумму\n",
        "\n",
        "Напишите функцию, дайте ей имя `add`, вызовите функцию, выведите результат для любых двух чисел"
      ],
      "metadata": {
        "id": "OMpgZpjXlq_f"
      }
    },
    {
      "cell_type": "code",
      "source": [
        "# ваш код здесь"
      ],
      "metadata": {
        "id": "jAyCxssnl4WQ"
      },
      "execution_count": null,
      "outputs": []
    },
    {
      "cell_type": "markdown",
      "source": [
        "* функция принимает на выход 2 числа и возвращает их произведение\n",
        "\n",
        "Напишите функцию, дайте ей имя `multiply`, вызовите функцию, выведите результат для любых двух чисел"
      ],
      "metadata": {
        "id": "b7aaXk7UmLdk"
      }
    },
    {
      "cell_type": "code",
      "source": [
        "# ваш код здесь"
      ],
      "metadata": {
        "id": "RADpW34lmT-D"
      },
      "execution_count": null,
      "outputs": []
    },
    {
      "cell_type": "markdown",
      "source": [
        "* функция принимает на выход число и возвращает число, возведенное в степень\n",
        "* по умолчанию производится возведение в квадрат\n",
        "* функция может возводить число в любую степень - это указывается в ее аргументах\n",
        "\n",
        "Напишите функцию, дайте ей имя `power`, вызовите функцию, выведите результат для любых двух чисел"
      ],
      "metadata": {
        "id": "3_hpGkarmkMB"
      }
    },
    {
      "cell_type": "code",
      "source": [
        "# ваш код здесь"
      ],
      "metadata": {
        "id": "ken-Au8qm19G"
      },
      "execution_count": null,
      "outputs": []
    }
  ]
}