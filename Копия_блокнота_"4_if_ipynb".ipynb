{
  "cells": [
    {
      "cell_type": "markdown",
      "metadata": {
        "id": "view-in-github",
        "colab_type": "text"
      },
      "source": [
        "<a href=\"https://colab.research.google.com/github/raverinpuff/arina-hse-python-course/blob/main/%D0%9A%D0%BE%D0%BF%D0%B8%D1%8F_%D0%B1%D0%BB%D0%BE%D0%BA%D0%BD%D0%BE%D1%82%D0%B0_%224_if_ipynb%22.ipynb\" target=\"_parent\"><img src=\"https://colab.research.google.com/assets/colab-badge.svg\" alt=\"Open In Colab\"/></a>"
      ]
    },
    {
      "cell_type": "markdown",
      "metadata": {
        "id": "xjBo_ebS9BpG"
      },
      "source": [
        "# Блок 1: задачи на условия"
      ]
    },
    {
      "cell_type": "markdown",
      "metadata": {
        "id": "f52IBxo_3QMO"
      },
      "source": [
        "## Задание 1\n",
        "\n",
        "### Напишите программу для проверки пароля пользователя\n",
        "\n",
        "**Образец работы программы:**\n",
        "\n",
        "```\n",
        "Введите пароль: 123\n",
        "Пароль неверный\n",
        "Введите пароль: 321\n",
        "Пароль верный\n",
        "```\n",
        "\n",
        "**Алгоритм:**\n",
        "\n",
        "1. Создайте переменную, в которой хранится верный пароль\n",
        "2. Запросите у пользователя пароль\n",
        "3. Если пароль верный, выведите \"Пароль верный\"\n",
        "4. Иначе, выведите \"Пароль неверный\""
      ]
    },
    {
      "cell_type": "code",
      "execution_count": null,
      "metadata": {
        "colab": {
          "base_uri": "https://localhost:8080/"
        },
        "id": "XDk2pBii3Nvo",
        "outputId": "d74fb51d-0194-405e-916e-6459127fdf40"
      },
      "outputs": [
        {
          "output_type": "stream",
          "name": "stdout",
          "text": [
            "Give me a password: 5689\n",
            "You suck! Пароль неверный\n"
          ]
        }
      ],
      "source": [
        "password = '12345'\n",
        "if input('Give me a password: ') == password:\n",
        "  print('Hello there! Пароль верный')\n",
        "else: print ('You suck! Пароль неверный')"
      ]
    },
    {
      "cell_type": "markdown",
      "metadata": {
        "id": "JUJsTkMH4Gbi"
      },
      "source": [
        "## Задание 2\n",
        "\n",
        "### Напишите программу для проверки возраста пользователя\n",
        "\n",
        "**Образец работы программы:**\n",
        "\n",
        "```\n",
        "Введите возраст: 12\n",
        "Доступ запрещен\n",
        "Введите пароль: 21\n",
        "Доступ разрешен\n",
        "```\n",
        "Если возраст больше или равен 18, программа выводит \"Доступ разрешен\""
      ]
    },
    {
      "cell_type": "code",
      "execution_count": null,
      "metadata": {
        "id": "aUr56W8b3-gg",
        "colab": {
          "base_uri": "https://localhost:8080/"
        },
        "outputId": "18972736-2634-417a-b66a-7dd121053d5f"
      },
      "outputs": [
        {
          "output_type": "stream",
          "name": "stdout",
          "text": [
            "What age are you? 45\n",
            "Hello there! Доступ разрешен\n"
          ]
        }
      ],
      "source": [
        "if int(input('What age are you? ')) >= 18:\n",
        "  print('Hello there! Доступ разрешен')\n",
        "else: print('Доступ запрещён')"
      ]
    },
    {
      "cell_type": "markdown",
      "metadata": {
        "id": "ty-_ARJv4hjz"
      },
      "source": [
        "## Задание 3\n",
        "\n",
        "### Напишите программу для приветствия пользователя\n",
        "\n",
        "**Образец работы программы:**\n",
        "\n",
        "```\n",
        "Введите время: 12:30\n",
        "Добрый день!\n",
        "Введите время: 10:30\n",
        "Доброе утро!\n",
        "Введите время: 21:30\n",
        "Добрый вечер!\n",
        "Введите время: 01:30\n",
        "Доброй ночи!\n",
        "```\n",
        "**Алгоритм:**\n",
        "\n",
        "1. Программа принимает на вход строку\n",
        "2. Делим строку по знаку `:`, создаем новую переменную с результатом разделения\n",
        "3. Извлекаем первый элемент из созданной переменной\n",
        "3. Использует логические выражения, чтобы вывести одно из четырех приветствий"
      ]
    },
    {
      "cell_type": "code",
      "execution_count": null,
      "metadata": {
        "id": "076IfTcK42zK",
        "colab": {
          "base_uri": "https://localhost:8080/"
        },
        "outputId": "084e9aee-6613-415e-d93d-8ab176b55e41"
      },
      "outputs": [
        {
          "output_type": "stream",
          "name": "stdout",
          "text": [
            "Введите время: 23:50\n",
            "Доброе утро!\n"
          ]
        }
      ],
      "source": [
        "import re\n",
        "str = input('Введите время: ')\n",
        "if 12 < int(str.split(':')[0o1]) < 16:\n",
        "  print('Добрый день!')\n",
        "elif 17 < int(str.split(':')[0o1]) < 23:\n",
        "  print('Добрый вечер!')\n",
        "elif 0 < int(str.split(':')[0o1]) < 5:\n",
        "  print('Доброй ночи!')\n",
        "else:\n",
        "  print('Доброе утро!')"
      ]
    },
    {
      "cell_type": "markdown",
      "metadata": {
        "id": "ibVDS0oG6Kab"
      },
      "source": [
        "## Задание 4\n",
        "\n",
        "### Целочисленный калькулятор\n",
        "\n",
        "**Образец работы программы:**\n",
        "\n",
        "```\n",
        "Введите выражение: 2 + 2\n",
        "4\n",
        "Введите выражение: 2 - 2\n",
        "0\n",
        "Введите выражение: 2 : 2\n",
        "1\n",
        "Введите время: 2 * 2\n",
        "4\n",
        "```\n",
        "**Алгоритм:**\n",
        "\n",
        "1. Программа принимает на вход строку\n",
        "2. Делим строку, создаем список из 3-х элементов\n",
        "3. Проверяем, что записано во втором элементе (помним, что нумерация начинается с 0!) с помощью условий\n",
        "4. Производим одно из четырех возможных действий с первым и последним элементом созданного списка"
      ]
    },
    {
      "cell_type": "code",
      "execution_count": 25,
      "metadata": {
        "id": "TQroW6Jr7C0K",
        "colab": {
          "base_uri": "https://localhost:8080/"
        },
        "outputId": "64b0e454-d39d-4a60-bc69-9cacd3c94ce4"
      },
      "outputs": [
        {
          "output_type": "stream",
          "name": "stdout",
          "text": [
            "Введите выражение: 2+3\n",
            "5\n"
          ]
        }
      ],
      "source": [
        "str_calc = input('Введите выражение: ')\n",
        "str_calc.split()\n",
        "if str_calc[1] == '+':\n",
        "  result = int(str_calc[0]) + int(str_calc[2])\n",
        "  print(result)\n",
        "elif str_calc[1] == '-':\n",
        "  result = int(str_calc[0]) - int(str_calc[2])\n",
        "  print(result)\n",
        "elif str_calc[0] == '*':\n",
        "  result = int(str_calc[0]) * int(str_calc[2])\n",
        "  print(result)\n",
        "elif str_calc[0] == ':':\n",
        "  result = int(str_calc[0]) / int(str_calc[2])\n",
        "  print(result)"
      ]
    },
    {
      "cell_type": "markdown",
      "metadata": {
        "id": "Byz1IibM7s8y"
      },
      "source": [
        "## Задание 5\n",
        "\n",
        "### Умный калькулятор\n",
        "\n",
        "**Образец работы программы:**\n",
        "\n",
        "```\n",
        "Введите выражение: 2 + 2\n",
        "4\n",
        "Введите выражение: 2 == 2\n",
        "True\n",
        "Введите выражение: 2 + 2.1\n",
        "4.1\n",
        "```\n",
        "Дополните калькулятор из задания 4:\n",
        "1. Замените операции с int операциями с float\n",
        "2. Научите калькулятор выполнять логические выражения, добавив новое условие\n",
        "3. Если результат вычисления - целое число (например, `4.0`), выводите целочисленный тип (`4`), иначе, выводите float"
      ]
    },
    {
      "cell_type": "code",
      "execution_count": 26,
      "metadata": {
        "id": "z5cHM4Og7G9s",
        "colab": {
          "base_uri": "https://localhost:8080/"
        },
        "outputId": "afad7135-8d5b-43d1-b2b6-8bcc6301de3f"
      },
      "outputs": [
        {
          "output_type": "stream",
          "name": "stdout",
          "text": [
            "Введите выражение: 6+9\n",
            "15.0\n"
          ]
        }
      ],
      "source": [
        "str_calc = input('Введите выражение: ')\n",
        "str_calc.split()\n",
        "if str_calc[1] == '+':\n",
        "  result = float(str_calc[0]) + float(str_calc[2])\n",
        "  print(result)\n",
        "elif str_calc[1] == '-':\n",
        "  result = float(str_calc[0]) - float(str_calc[2])\n",
        "  print(result)\n",
        "elif str_calc[0] == '*':\n",
        "  result = float(str_calc[0]) * float(str_calc[2])\n",
        "  print(result)\n",
        "elif str_calc[0] == ':':\n",
        "  result = float(str_calc[0]) / float(str_calc[2])\n",
        "  print(result)"
      ]
    },
    {
      "cell_type": "code",
      "execution_count": null,
      "metadata": {
        "id": "THlKL93h8X7m"
      },
      "outputs": [],
      "source": []
    },
    {
      "cell_type": "code",
      "execution_count": null,
      "metadata": {
        "id": "o8zXUyeX8-G4"
      },
      "outputs": [],
      "source": []
    },
    {
      "cell_type": "markdown",
      "metadata": {
        "id": "HkO1aD2F9Iss"
      },
      "source": [
        "# Блок 2: задачи на обработку данных"
      ]
    },
    {
      "cell_type": "markdown",
      "metadata": {
        "id": "pmEBQyIh9Ist"
      },
      "source": [
        "## Задание 6\n",
        "\n",
        "### Фильтрация данных\n",
        "\n",
        "**Образец результата работы программы:**\n",
        "\n",
        "```\n",
        "Laptop\n",
        "Smartphone\n",
        "Tablet\n",
        "```\n",
        "\n",
        "**Условия:**\n",
        "\n",
        "Дан список продуктов в магазине техники:\n",
        "\n",
        "`\"Laptop True\", \"Headphones False\", \"Smartphone True\", \"Tablet True\", \"Speaker False\"`\n",
        "\n",
        "Каждый элемент списка состоит из двух слов:\n",
        "\n",
        "1. тип продукта (`Laptop`)\n",
        "2. его наличие (`True`) или отсутствие (`False`) в магазине\n",
        "\n",
        "Допишите код ниже, чтобы вывести на экран продукты в наличии.\n",
        "\n",
        "Используйте условие: вторая часть элемента списка должна быть равна `True`."
      ]
    },
    {
      "cell_type": "code",
      "execution_count": null,
      "metadata": {
        "colab": {
          "base_uri": "https://localhost:8080/"
        },
        "id": "i5vvEmhZ9Isv",
        "outputId": "43e793df-d78d-4e0e-84ea-6db806db6a9e"
      },
      "outputs": [
        {
          "output_type": "stream",
          "name": "stdout",
          "text": [
            "Laptop\n",
            "Smartphone\n",
            "Tablet\n"
          ]
        }
      ],
      "source": [
        "# Список продуктов\n",
        "products = [\"Laptop True\", \"Headphones False\", \"Smartphone True\", \"Tablet True\", \"Speaker False\"]\n",
        "\n",
        "# Начинаем перебирать список\n",
        "for product in products:\n",
        "  if product.split(' ')[1] == 'True':\n",
        "    print (product.split(' ')[0])\n",
        "\n",
        "\n",
        "  # если вторая часть текущего элемента списка product == True\n",
        "  ### ваш код здесь ###\n",
        "    # выведите на экран первую часть текущего элемента списка product\n",
        "    ### ваш код здесь ###"
      ]
    },
    {
      "cell_type": "markdown",
      "metadata": {
        "id": "NdG5Y_Cg9Isv"
      },
      "source": [
        "## Задание 7\n",
        "\n",
        "### Фильтрация по числу\n",
        "\n",
        "**Образец результата работы программы:**\n",
        "\n",
        "```\n",
        "Headphones\n",
        "Smartphone\n",
        "Tablet\n",
        "```\n",
        "\n",
        "**Условия:**\n",
        "\n",
        "Дан список продуктов в магазине техники:\n",
        "\n",
        "`\"Laptop 8\", \"Headphones 12\", \"Smartphone 41\", \"Tablet 10\", \"Speaker 6\"`\n",
        "\n",
        "Каждый элемент списка состоит из двух компонентов:\n",
        "\n",
        "1. тип продукта (`Laptop`)\n",
        "2. количество продуктов данного типа в магазине (`8`)\n",
        "\n",
        "Допишите код ниже, чтобы вывести на экран продукты, количество которых равно или больше 10.\n",
        "\n",
        "Используйте условие: вторая часть элемента списка должна быть равна или больше десяти."
      ]
    },
    {
      "cell_type": "code",
      "execution_count": null,
      "metadata": {
        "colab": {
          "base_uri": "https://localhost:8080/"
        },
        "id": "tpsi4s4l9Isw",
        "outputId": "17c91470-a2f0-4f63-8f1f-b6b741c3e64c"
      },
      "outputs": [
        {
          "name": "stdout",
          "output_type": "stream",
          "text": [
            "Headphones\n",
            "Smartphone\n",
            "Tablet\n"
          ]
        }
      ],
      "source": [
        "# Список продуктов\n",
        "num_products = [\"Laptop 8\", \"Headphones 12\", \"Smartphone 41\", \"Tablet 10\", \"Speaker 6\"]\n",
        "\n",
        "# Начинаем перебирать список\n",
        "for product in num_products:\n",
        "    product.split(' ')\n",
        "    if int(product.split(' ')[1]) >= 10:\n",
        "      print(product.split(' ')[0])"
      ]
    },
    {
      "cell_type": "markdown",
      "metadata": {
        "id": "Tf1rQpab9Isx"
      },
      "source": [
        "## Задание 8\n",
        "\n",
        "### Изменение списка\n",
        "\n",
        "**Образец результата работы программы:**\n",
        "\n",
        "```\n",
        "`\"Headphones 12\", \"Smartphone 41\", \"Tablet 10\", \"Desktop 16\"`\n",
        "```\n",
        "\n",
        "**Условия:**\n",
        "\n",
        "Дан список новых продуктов для поставки магазин техники:\n",
        "\n",
        "`\"Desktop 16\", \"Mouse 2\", \"Keyboard 4\"`\n",
        "\n",
        "Каждый элемент списка состоит из двух компонентов:\n",
        "\n",
        "1. тип продукта (`Desktop`)\n",
        "2. количество продуктов данного типа в магазине (`16`)\n",
        "\n",
        "Допишите код ниже, чтобы добавить в список `num_products` продукты, количество которых равно или больше 10.\n",
        "\n",
        "Используйте условие и функцию `append`."
      ]
    },
    {
      "cell_type": "markdown",
      "metadata": {
        "id": "FAIsp2TOB1_a"
      },
      "source": [
        "Удалите из `num_products` элементы, количество которых меньше 10.\n",
        "\n",
        "Используйте `remove`. Когда мы используем `remove`, список меняется и в следующей итерации могут вознкнуть конфликты.\n",
        "\n",
        "    Пример:  \n",
        "      Итерация 1: удали третий элемент из списка [1, 2, 3]\n",
        "      Итерация 2: удали третий элемент из списка [1, 2] - ошибка!\n",
        "\n",
        "Поэтому мы создаем временную копию списка `num_products[:]`."
      ]
    },
    {
      "cell_type": "code",
      "execution_count": 37,
      "metadata": {
        "id": "Gt-6sSw9B-_f",
        "colab": {
          "base_uri": "https://localhost:8080/"
        },
        "outputId": "85788ee8-7fa8-4c76-ef09-2000808c84d7"
      },
      "outputs": [
        {
          "output_type": "stream",
          "name": "stdout",
          "text": [
            "Desktop 16\n"
          ]
        }
      ],
      "source": [
        "num_products = [\"Desktop 16\", \"Mouse 2\", \"Keyboard 4\"]\n",
        "\n",
        "for product in num_products[:]: # [:] создает копию списка, чтобы избежать конфликтов\n",
        "  # Проверьте количество продуктов\n",
        "  product.split(' ')\n",
        "  if int(product.split(' ')[1]) >= 10:\n",
        "    num_products.append(product)\n",
        "    # Примените remove к списку num_products\n",
        "  else: num_products.remove(product)\n",
        "print(num_products[0])"
      ]
    },
    {
      "cell_type": "markdown",
      "metadata": {
        "id": "JPbwkam09Isx"
      },
      "source": [
        "## Задание 9\n",
        "\n",
        "### Фильтрация списка имен\n",
        "\n",
        "**Образец результата работы программы:**\n",
        "\n",
        "```\n",
        "a_k = \"Alex\", \"Chloe\", \"George\", \"Jordan\"\n",
        "l_z = \"Lauren\", \"Tom\"\n",
        "```\n",
        "\n",
        "**Условия:**\n",
        "\n",
        "Дан список имен:\n",
        "\n",
        "`[\"Tom\", \"Chloe\", \"Alex\", \"George\", \"Lauren\", \"Jordan\"]`\n",
        "\n",
        "Создайте два списка и отсортируйте их в алфавитном порядке:\n",
        "\n",
        "1. `a_k`: список имен, начинающихся с букв в диапазоне от `A` до `K` (буквы чувствительны к регистру и ранжируются [как числа] от A до Z и далее от a до z)\n",
        "2. `l_z`: список от `L` до `Z`"
      ]
    },
    {
      "cell_type": "code",
      "execution_count": null,
      "metadata": {
        "id": "BPzG9mme9Isx",
        "colab": {
          "base_uri": "https://localhost:8080/"
        },
        "outputId": "4de7ee43-7199-42dd-a933-d05cf20cb13c"
      },
      "outputs": [
        {
          "output_type": "stream",
          "name": "stdout",
          "text": [
            "['Lauren', 'Tom']\n",
            "['Alex', 'Chloe', 'George', 'Jordan']\n"
          ]
        }
      ],
      "source": [
        "names = [\"Tom\", \"Chloe\", \"Alex\", \"George\", \"Lauren\", \"Jordan\"]\n",
        "a_k = []\n",
        "l_z = []\n",
        "# Создайте 2 пустых списка a_k и l_z\n",
        "for name in names:\n",
        "  if name[0] <= 'K':\n",
        "    a_k.append(name)\n",
        "  else:\n",
        "    l_z.append(name)\n",
        "\n",
        "print(sorted(l_z))\n",
        "print(sorted(a_k))\n",
        "\n",
        "\n",
        "  # Используйте append, чтобы внести в a_k имена от A до K\n",
        "    ### ваш код здесь ###\n",
        "  # Иначе, добавьте имена в другой список\n",
        "    ### ваш код здесь ###\n",
        "\n",
        "# Используйте sorted, чтобы перезаписать в оба списка отсортированные по алфавиту данные\n",
        "### ваш код здесь ###"
      ]
    },
    {
      "cell_type": "markdown",
      "metadata": {
        "id": "_GVE8_lb9Isx"
      },
      "source": [
        "## Задание 10\n",
        "\n",
        "### Фильтрация типов\n",
        "\n",
        "**Образец результата работы программы:**\n",
        "\n",
        "```\n",
        "nums = [1, 3, 4]\n",
        "names = [\"apple\", \"banana\", \"kiwi\"]\n",
        "floats = [2.5, 7.6]\n",
        "bools = [True, True, False]\n",
        "```\n",
        "\n",
        "**Условия:**\n",
        "\n",
        "Дан список данных разных типов:\n",
        "\n",
        "`3, 1, \"kiwi\", 7.6, False, True, \"apple\", 2.5, \"banana\", True, 4`\n",
        "\n",
        "Используйте выражение `if isinstance(element, type)`, где `type` - питоновский тип (`int`, `str`...), чтобы создать списки, содержащие элементы одного типа.\n",
        "\n",
        "Отсортируйте списки с помощью `sorted`."
      ]
    },
    {
      "cell_type": "code",
      "execution_count": null,
      "metadata": {
        "id": "wI_V15MM9Isy",
        "colab": {
          "base_uri": "https://localhost:8080/"
        },
        "outputId": "00d6c279-dcae-4e3b-d140-4d67cb731db3"
      },
      "outputs": [
        {
          "output_type": "stream",
          "name": "stdout",
          "text": [
            "[3, 1, False, True, True, 4]\n",
            "['kiwi', 'apple', 'banana']\n",
            "[]\n",
            "[7.6, 2.5]\n"
          ]
        }
      ],
      "source": [
        "mixed_list = [3, 1, \"kiwi\", 7.6, False, True, \"apple\", 2.5, \"banana\", True, 4]\n",
        "\n",
        "# Создайте пустые списки\n",
        "int_list = []\n",
        "str_list = []\n",
        "bool_list = []\n",
        "float_list = []\n",
        "\n",
        "for element in mixed_list:\n",
        "  if isinstance(element, int):\n",
        "    int_list.append(element)\n",
        "  elif isinstance(element, str):\n",
        "    str_list.append(element)\n",
        "  elif isinstance(element, bool):\n",
        "    bool_list.append(element)\n",
        "  elif isinstance(element, float):\n",
        "    float_list.append(element)\n",
        "print(int_list)\n",
        "print(str_list)\n",
        "print(bool_list)\n",
        "print(float_list)\n",
        "\n",
        " ## я не понимаю, почему у меня в список int засовываются булевы переменные. даже при чёткой разбивке по строкам программа всё равно так делает. как это исправить?? ##"
      ]
    }
  ],
  "metadata": {
    "colab": {
      "collapsed_sections": [
        "xjBo_ebS9BpG",
        "f52IBxo_3QMO",
        "JUJsTkMH4Gbi",
        "ty-_ARJv4hjz",
        "ibVDS0oG6Kab",
        "Byz1IibM7s8y",
        "Tf1rQpab9Isx"
      ],
      "provenance": [],
      "include_colab_link": true
    },
    "kernelspec": {
      "display_name": "Python 3",
      "name": "python3"
    },
    "language_info": {
      "name": "python"
    }
  },
  "nbformat": 4,
  "nbformat_minor": 0
}