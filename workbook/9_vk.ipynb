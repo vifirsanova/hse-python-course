{
  "cells": [
    {
      "cell_type": "markdown",
      "metadata": {
        "id": "view-in-github",
        "colab_type": "text"
      },
      "source": [
        "<a href=\"https://colab.research.google.com/github/vifirsanova/hse-python-course/blob/main/workbook/9_vk.ipynb\" target=\"_parent\"><img src=\"https://colab.research.google.com/assets/colab-badge.svg\" alt=\"Open In Colab\"/></a>"
      ]
    },
    {
      "cell_type": "markdown",
      "source": [
        "Установка VK API"
      ],
      "metadata": {
        "id": "t_Qke13Qyf0f"
      }
    },
    {
      "cell_type": "code",
      "execution_count": 1,
      "metadata": {
        "id": "Iuh2-xTvWnQh",
        "colab": {
          "base_uri": "https://localhost:8080/"
        },
        "outputId": "279b7dea-da0a-42c2-9670-7f22ae3481c6"
      },
      "outputs": [
        {
          "output_type": "stream",
          "name": "stdout",
          "text": [
            "Collecting vk_api\n",
            "  Downloading vk_api-11.9.9-py3-none-any.whl.metadata (2.0 kB)\n",
            "Requirement already satisfied: requests in /usr/local/lib/python3.10/dist-packages (from vk_api) (2.32.3)\n",
            "Requirement already satisfied: charset-normalizer<4,>=2 in /usr/local/lib/python3.10/dist-packages (from requests->vk_api) (3.3.2)\n",
            "Requirement already satisfied: idna<4,>=2.5 in /usr/local/lib/python3.10/dist-packages (from requests->vk_api) (3.10)\n",
            "Requirement already satisfied: urllib3<3,>=1.21.1 in /usr/local/lib/python3.10/dist-packages (from requests->vk_api) (2.2.3)\n",
            "Requirement already satisfied: certifi>=2017.4.17 in /usr/local/lib/python3.10/dist-packages (from requests->vk_api) (2024.8.30)\n",
            "Downloading vk_api-11.9.9-py3-none-any.whl (48 kB)\n",
            "\u001b[2K   \u001b[90m━━━━━━━━━━━━━━━━━━━━━━━━━━━━━━━━━━━━━━━━\u001b[0m \u001b[32m48.6/48.6 kB\u001b[0m \u001b[31m1.8 MB/s\u001b[0m eta \u001b[36m0:00:00\u001b[0m\n",
            "\u001b[?25hInstalling collected packages: vk_api\n",
            "Successfully installed vk_api-11.9.9\n"
          ]
        }
      ],
      "source": [
        "!pip install vk_api"
      ]
    },
    {
      "cell_type": "markdown",
      "source": [
        "Получаем токен на vkhost;\n",
        "\n",
        "- выбираем vk.com\n",
        "\n",
        "- принимаем условия\n",
        "\n",
        "- копируем код из строки браузера (да-да, там, где написано \"не копируйте\")\n",
        "\n",
        "Токен живет 1 час, он расположен между `https://oauth.vk.com/blank.html#access_token=` и `user_id=61895623`\n",
        "\n",
        "```\n",
        "https://oauth.vk.com/blank.html#access_token=ЗДЕСЬ ВАШ ТОКЕН&user_id=61895623\n",
        "```\n",
        "\n",
        "Токен привязан к вашему IP, поэтому запускаем его локально!"
      ],
      "metadata": {
        "id": "xoyz9Mc8yjO0"
      }
    },
    {
      "cell_type": "code",
      "execution_count": 22,
      "metadata": {
        "id": "lhcaWDOBZVw3"
      },
      "outputs": [],
      "source": [
        "# https://vkhost.github.io/\n",
        "\n",
        "import vk_api\n",
        "\n",
        "vkApiSession= vk_api.VkApi(token=\"токен\")\n",
        "\n",
        "vk = vkApiSession.get_api()"
      ]
    },
    {
      "cell_type": "markdown",
      "source": [
        "`-20629724` - ID паблика \"Хабр\" ВК\n",
        "\n",
        "ID пользователей имеют вид `00000000`\n",
        "\n",
        "ID сообществ имеют вид `-00000000`\n",
        "\n",
        "Выгрузим 100 верхних постов и выведем результат"
      ],
      "metadata": {
        "id": "bdEwTErH0j75"
      }
    },
    {
      "cell_type": "code",
      "source": [
        "posts = vk.wall.get(owner_id=-20629724, count=100)['items']\n",
        "posts"
      ],
      "metadata": {
        "id": "P0-u3YXgyduT"
      },
      "execution_count": null,
      "outputs": []
    },
    {
      "cell_type": "markdown",
      "source": [
        "**Задание**\n",
        "\n",
        "1. Изучите [**документацию VK API**](https://dev.vk.com/ru/method/wall)\n",
        "\n",
        "2. Выберите **сообщество** для скрейпинга данных\n",
        "\n",
        "3. Произведите **парсинг** выгруженных данных:\n",
        "\n",
        "- извлеките изображение под постом\n",
        "\n",
        "- извлеките текст публикации\n",
        "\n",
        "- извлеките любую статистику, например, количество просмотров\n",
        "\n",
        "4. Сформируйте файл ***.csv**\n",
        "\n",
        "Используйте шаблон:"
      ],
      "metadata": {
        "id": "Z4jJ4fOJ1eS9"
      }
    },
    {
      "cell_type": "code",
      "source": [
        "import vk_api\n",
        "import csv\n",
        "import pandas as pd\n",
        "\n",
        "def scrape_wall_data(token, owner_id, count=10):\n",
        "    \"\"\"\n",
        "    Опишите здесь, что делает ваша функция.\n",
        "    Какие аргументы она принимает?\n",
        "    Что она возвращает?\n",
        "    ...\n",
        "    Дополните комментарии к коду, разъясняющие работу функции.\n",
        "    \"\"\"\n",
        "    try:\n",
        "        # Инициализация VK API\n",
        "        vk_session = vk_api.VkApi(token=token)\n",
        "        vk = vk_session.get_api()\n",
        "\n",
        "        # Метод wall.get\n",
        "        posts = vk.wall.get(owner_id=owner_id, count=count)['items']\n",
        "\n",
        "        # Хранилище для данных\n",
        "        scraped_data = []\n",
        "\n",
        "        # Парсинг\n",
        "        for post in posts:\n",
        "            post_data = {\n",
        "                'post_id': post['id'],\n",
        "                ### здесь дополните информацию: иллюстрации, текст публикации, стата... ###\n",
        "            }\n",
        "            scraped_data.append(post_data)\n",
        "\n",
        "        return scraped_data\n",
        "\n",
        "    except vk_api.exceptions.ApiError as e:\n",
        "        print(f\"Error accessing VK API: {e}\")\n",
        "        return []\n",
        "\n",
        "# Допишите функцию для сохранения *.csv\n",
        "def save_to_csv(data, file_name='vk_wall_posts.csv'):\n",
        "    with open(file_name, mode='w', newline='', encoding='utf-8') as file:\n",
        "        writer = csv.DictWriter(file, fieldnames=['post_id', ### здесь укажите ключи из post_data ###])\n",
        "        writer.writeheader()\n",
        "        for row in data:\n",
        "            writer.writerow(row)\n",
        "\n",
        "def stats():\n",
        "    # Напишите функцию для описания ваших данных:\n",
        "    # выведите часть данных с помощью pandas\n",
        "    # сделайте визуализацию собранной статистики\n",
        "    pass\n",
        "\n",
        "# Функция для выполнения задачи\n",
        "def main():\n",
        "    # Введите ваш токен VK API\n",
        "    token = 'YOUR_ACCESS_TOKEN_HERE'\n",
        "\n",
        "    # Введите ID сообщества\n",
        "    owner_id = -00000000\n",
        "\n",
        "    # Введите количество публикаций для скрейпинга\n",
        "    num_posts = 0\n",
        "\n",
        "    # Запустите функцию для скрейпинга\n",
        "    ### ваш код здесь ###\n",
        "\n",
        "    if wall_data:\n",
        "        # Запустите функцию для сохранения *.csv\n",
        "        ### ваш код здесь ###\n",
        "        # Выведите статистику по выгруженной информации\n",
        "        ### ваш код здесь ###\n",
        "    else:\n",
        "        print(\"No data\")\n",
        "\n",
        "if __name__ == \"__main__\":\n",
        "    main()"
      ],
      "metadata": {
        "id": "ZtY4cee6r1ck"
      },
      "execution_count": null,
      "outputs": []
    }
  ],
  "metadata": {
    "colab": {
      "provenance": [],
      "include_colab_link": true
    },
    "kernelspec": {
      "display_name": "Python 3",
      "name": "python3"
    },
    "language_info": {
      "name": "python"
    }
  },
  "nbformat": 4,
  "nbformat_minor": 0
}