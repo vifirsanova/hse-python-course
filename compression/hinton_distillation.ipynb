{
  "nbformat": 4,
  "nbformat_minor": 0,
  "metadata": {
    "colab": {
      "provenance": [],
      "gpuType": "T4",
      "authorship_tag": "ABX9TyNc3Qvn0sMce2nw9eCeovMu",
      "include_colab_link": true
    },
    "kernelspec": {
      "name": "python3",
      "display_name": "Python 3"
    },
    "language_info": {
      "name": "python"
    },
    "accelerator": "GPU"
  },
  "cells": [
    {
      "cell_type": "markdown",
      "metadata": {
        "id": "view-in-github",
        "colab_type": "text"
      },
      "source": [
        "<a href=\"https://colab.research.google.com/github/vifirsanova/hse-python-course/blob/main/compression/hinton_distillation.ipynb\" target=\"_parent\"><img src=\"https://colab.research.google.com/assets/colab-badge.svg\" alt=\"Open In Colab\"/></a>"
      ]
    },
    {
      "cell_type": "code",
      "execution_count": 1,
      "metadata": {
        "id": "adsWgMcdnht_"
      },
      "outputs": [],
      "source": [
        "import torch\n",
        "import torch.nn as nn\n",
        "import torch.optim as optim\n",
        "import torch.nn.functional as F\n",
        "import torchvision\n",
        "import torchvision.transforms as transforms"
      ]
    },
    {
      "cell_type": "code",
      "source": [
        "device = torch.device(\"cuda\" if torch.cuda.is_available() else \"cpu\")"
      ],
      "metadata": {
        "id": "KlhW2y8tytGd"
      },
      "execution_count": 2,
      "outputs": []
    },
    {
      "cell_type": "code",
      "source": [
        "transform = transforms.Compose([transforms.ToTensor(), transforms.Normalize((0.5,), (0.5,))])\n",
        "trainset = torchvision.datasets.MNIST(root='./data', train=True, download=True, transform=transform)\n",
        "trainloader = torch.utils.data.DataLoader(trainset, batch_size=64, shuffle=True)\n",
        "testset = torchvision.datasets.MNIST(root='./data', train=False, download=True, transform=transform)\n",
        "testloader = torch.utils.data.DataLoader(testset, batch_size=64, shuffle=False)"
      ],
      "metadata": {
        "id": "kMlJ5QACyyWw"
      },
      "execution_count": null,
      "outputs": []
    },
    {
      "cell_type": "code",
      "source": [
        "class TeacherModel(nn.Module):\n",
        "    def __init__(self):\n",
        "        super(TeacherModel, self).__init__()\n",
        "        self.fc1 = nn.Linear(28 * 28, 1200)\n",
        "        self.fc2 = nn.Linear(1200, 600)\n",
        "        self.fc3 = nn.Linear(600, 10)\n",
        "\n",
        "    def forward(self, x):\n",
        "        x = x.view(-1, 28 * 28)\n",
        "        x = torch.relu(self.fc1(x))\n",
        "        x = torch.relu(self.fc2(x))\n",
        "        x = self.fc3(x)\n",
        "        return x"
      ],
      "metadata": {
        "id": "-4lX77qoy3po"
      },
      "execution_count": 4,
      "outputs": []
    },
    {
      "cell_type": "code",
      "source": [
        "class StudentModel(nn.Module):\n",
        "    def __init__(self):\n",
        "        super(StudentModel, self).__init__()\n",
        "        self.fc1 = nn.Linear(28 * 28, 300)\n",
        "        self.fc2 = nn.Linear(300, 100)\n",
        "        self.fc3 = nn.Linear(100, 10)\n",
        "\n",
        "    def forward(self, x):\n",
        "        x = x.view(-1, 28 * 28)\n",
        "        x = torch.relu(self.fc1(x))\n",
        "        x = torch.relu(self.fc2(x))\n",
        "        x = self.fc3(x)\n",
        "        return x"
      ],
      "metadata": {
        "id": "xa30xupdy_VP"
      },
      "execution_count": 5,
      "outputs": []
    },
    {
      "cell_type": "code",
      "source": [
        "def train_model(model, trainloader, epochs=5):\n",
        "    criterion = nn.CrossEntropyLoss()\n",
        "    optimizer = optim.SGD(model.parameters(), lr=0.01, momentum=0.9)\n",
        "\n",
        "    model.train()\n",
        "    for epoch in range(epochs):\n",
        "        running_loss = 0.0\n",
        "        for images, labels in trainloader:\n",
        "            images, labels = images.to(device), labels.to(device)\n",
        "\n",
        "            optimizer.zero_grad()\n",
        "            outputs = model(images)\n",
        "            loss = criterion(outputs, labels)\n",
        "            loss.backward()\n",
        "            optimizer.step()\n",
        "            running_loss += loss.item()\n",
        "\n",
        "        print(f\"Epoch [{epoch + 1}/{epochs}], Loss: {running_loss / len(trainloader):.4f}\")"
      ],
      "metadata": {
        "id": "J8TM672kzEQ3"
      },
      "execution_count": 6,
      "outputs": []
    },
    {
      "cell_type": "code",
      "source": [
        "def test_model(model, testloader):\n",
        "    model.eval()\n",
        "    correct = 0\n",
        "    total = 0\n",
        "    with torch.no_grad():\n",
        "        for images, labels in testloader:\n",
        "            images, labels = images.to(device), labels.to(device)\n",
        "            outputs = model(images)\n",
        "            _, predicted = torch.max(outputs, 1)\n",
        "            total += labels.size(0)\n",
        "            correct += (predicted == labels).sum().item()\n",
        "\n",
        "    accuracy = 100 * correct / total\n",
        "    print(f'Accuracy: {accuracy:.2f}%')\n",
        "    return accuracy"
      ],
      "metadata": {
        "id": "psU03q6QzZHp"
      },
      "execution_count": 7,
      "outputs": []
    },
    {
      "cell_type": "code",
      "source": [
        "teacher_model = TeacherModel().to(device)\n",
        "print(\"Training Teacher Model:\")\n",
        "train_model(teacher_model, trainloader, epochs=5)"
      ],
      "metadata": {
        "colab": {
          "base_uri": "https://localhost:8080/"
        },
        "id": "SyRkBg0AzcGv",
        "outputId": "4468751e-c3b9-4fdf-f895-2baea03b6dea"
      },
      "execution_count": 8,
      "outputs": [
        {
          "output_type": "stream",
          "name": "stdout",
          "text": [
            "Training Teacher Model:\n",
            "Epoch [1/5], Loss: 0.3658\n",
            "Epoch [2/5], Loss: 0.1431\n",
            "Epoch [3/5], Loss: 0.0999\n",
            "Epoch [4/5], Loss: 0.0788\n",
            "Epoch [5/5], Loss: 0.0621\n"
          ]
        }
      ]
    },
    {
      "cell_type": "code",
      "source": [
        "print(\"Testing Teacher Model:\")\n",
        "accuracy_teacher = test_model(teacher_model, testloader)"
      ],
      "metadata": {
        "colab": {
          "base_uri": "https://localhost:8080/"
        },
        "id": "12qD5eAFzoyB",
        "outputId": "f0297be9-deec-4de0-aecf-0468aa1670b2"
      },
      "execution_count": 9,
      "outputs": [
        {
          "output_type": "stream",
          "name": "stdout",
          "text": [
            "Testing Teacher Model:\n",
            "Accuracy: 97.45%\n"
          ]
        }
      ]
    },
    {
      "cell_type": "markdown",
      "source": [
        "Параметры\n",
        "\n",
        "`param student_logits`\n",
        "\n",
        "`param teacher_logits`\n",
        "\n",
        "`true_labels`\n",
        "\n",
        "`T` - температура, чем выше, тем более приближенные распределения; чем ниже, тем выше точность значений\n",
        "\n",
        "`alpha` - взвешивание soft и hard таргетов"
      ],
      "metadata": {
        "id": "ltnV98Wnzmtu"
      }
    },
    {
      "cell_type": "code",
      "source": [
        "def distillation_loss(student_logits, teacher_logits, true_labels, T, alpha):\n",
        "    # Soft targets (distillation loss)\n",
        "    soft_teacher_probs = F.log_softmax(teacher_logits / T, dim=1)\n",
        "    soft_student_probs = F.log_softmax(student_logits / T, dim=1)\n",
        "    distillation_loss = F.kl_div(soft_student_probs, soft_teacher_probs, reduction='batchmean') * (T * T)\n",
        "\n",
        "    # Hard targets (normal cross-entropy loss)\n",
        "    hard_loss = F.cross_entropy(student_logits, true_labels)\n",
        "\n",
        "    # Total loss: weighted sum of distillation and hard losses\n",
        "    return alpha * distillation_loss + (1 - alpha) * hard_loss"
      ],
      "metadata": {
        "id": "SM_9ZPS2zq_J"
      },
      "execution_count": 10,
      "outputs": []
    },
    {
      "cell_type": "code",
      "source": [
        "def train_student_with_kd(student_model, teacher_model, trainloader, T=5.0, alpha=0.7, epochs=5):\n",
        "    optimizer = optim.Adam(student_model.parameters(), lr=0.01)\n",
        "    student_model.train()\n",
        "    teacher_model.eval()  # Teacher is frozen\n",
        "\n",
        "    for epoch in range(epochs):\n",
        "        running_loss = 0.0\n",
        "        for images, labels in trainloader:\n",
        "            images, labels = images.to(device), labels.to(device)\n",
        "\n",
        "            optimizer.zero_grad()\n",
        "\n",
        "            # logits\n",
        "            student_logits = student_model(images)\n",
        "            teacher_logits = teacher_model(images)\n",
        "\n",
        "            # distillation loss\n",
        "            loss = distillation_loss(student_logits, teacher_logits, labels, T, alpha)\n",
        "            loss.backward()\n",
        "            optimizer.step()\n",
        "            running_loss += loss.item()\n",
        "\n",
        "        print(f\"Epoch [{epoch + 1}/{epochs}], Loss: {running_loss / len(trainloader):.4f}\")"
      ],
      "metadata": {
        "id": "R60q-2BxzyHm"
      },
      "execution_count": 20,
      "outputs": []
    },
    {
      "cell_type": "code",
      "source": [
        "student_model = StudentModel().to(device)\n",
        "print(\"\\nTraining Student Model with Knowledge Distillation:\")\n",
        "train_student_with_kd(student_model, teacher_model, trainloader, T=7.0, alpha=0.5, epochs=5)"
      ],
      "metadata": {
        "colab": {
          "base_uri": "https://localhost:8080/"
        },
        "id": "KtAXB-ItzvmI",
        "outputId": "4ba6f46a-9e88-482d-b3de-c6b5fbc0a17d"
      },
      "execution_count": 21,
      "outputs": [
        {
          "output_type": "stream",
          "name": "stdout",
          "text": [
            "\n",
            "Training Student Model with Knowledge Distillation:\n",
            "Epoch [1/5], Loss: nan\n",
            "Epoch [2/5], Loss: nan\n",
            "Epoch [3/5], Loss: nan\n",
            "Epoch [4/5], Loss: nan\n",
            "Epoch [5/5], Loss: nan\n"
          ]
        }
      ]
    },
    {
      "cell_type": "code",
      "source": [
        "print(\"Testing Student Model:\")\n",
        "accuracy_student = test_model(student_model, testloader)"
      ],
      "metadata": {
        "colab": {
          "base_uri": "https://localhost:8080/"
        },
        "id": "uMsZvVXy0Yef",
        "outputId": "e5aa5425-3308-45ee-93b0-0c2bb1dffdb3"
      },
      "execution_count": 22,
      "outputs": [
        {
          "output_type": "stream",
          "name": "stdout",
          "text": [
            "Testing Student Model:\n",
            "Accuracy: 10.28%\n"
          ]
        }
      ]
    },
    {
      "cell_type": "code",
      "source": [
        "print(f\"Teacher Accuracy: {accuracy_teacher:.2f}%\")\n",
        "print(f\"Student Accuracy: {accuracy_student:.2f}%\")"
      ],
      "metadata": {
        "colab": {
          "base_uri": "https://localhost:8080/"
        },
        "id": "Ht_oCvDVw9oM",
        "outputId": "a42c5b41-64c3-4eb1-e06e-d6b51f826156"
      },
      "execution_count": 23,
      "outputs": [
        {
          "output_type": "stream",
          "name": "stdout",
          "text": [
            "Teacher Accuracy: 97.45%\n",
            "Student Accuracy: 10.28%\n"
          ]
        }
      ]
    },
    {
      "cell_type": "code",
      "source": [],
      "metadata": {
        "id": "ItmZw201IjEw"
      },
      "execution_count": null,
      "outputs": []
    }
  ]
}