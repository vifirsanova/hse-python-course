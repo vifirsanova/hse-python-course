{
  "nbformat": 4,
  "nbformat_minor": 0,
  "metadata": {
    "colab": {
      "provenance": [],
      "authorship_tag": "ABX9TyN34YwheGOobffmYtIuduJm",
      "include_colab_link": true
    },
    "kernelspec": {
      "name": "python3",
      "display_name": "Python 3"
    },
    "language_info": {
      "name": "python"
    }
  },
  "cells": [
    {
      "cell_type": "markdown",
      "metadata": {
        "id": "view-in-github",
        "colab_type": "text"
      },
      "source": [
        "<a href=\"https://colab.research.google.com/github/vifirsanova/hse-python-course/blob/main/compression/quantization.ipynb\" target=\"_parent\"><img src=\"https://colab.research.google.com/assets/colab-badge.svg\" alt=\"Open In Colab\"/></a>"
      ]
    },
    {
      "cell_type": "code",
      "execution_count": 18,
      "metadata": {
        "colab": {
          "base_uri": "https://localhost:8080/"
        },
        "id": "nWRtXgUl-zz-",
        "outputId": "8fade859-e4b2-45a4-9ad9-27a132b0f751"
      },
      "outputs": [
        {
          "output_type": "stream",
          "name": "stdout",
          "text": [
            "Centroid value: -2.85 \n",
            "Difference matrix:\n",
            " [[ 3.71  2.12  0.53 -1.06]\n",
            " [ 0.97 -0.62 -2.21 -3.8 ]\n",
            " [ 1.36 -0.23 -1.82 -3.41]\n",
            " [ 2.34  0.75 -0.84 -2.43]]\n",
            "\n",
            "Centroid value: -1.26 \n",
            "Difference matrix:\n",
            " [[ 1.15 -0.44 -2.03 -3.62]\n",
            " [ 4.43  2.84  1.25 -0.34]\n",
            " [ 2.97  1.38 -0.21 -1.8 ]\n",
            " [ 0.47 -1.12 -2.71 -4.3 ]]\n",
            "\n",
            "Centroid value: 0.33 \n",
            "Difference matrix:\n",
            " [[ 4.75  3.16  1.57 -0.02]\n",
            " [ 0.66 -0.93 -2.52 -4.11]\n",
            " [ 4.22  2.63  1.04 -0.55]\n",
            " [ 0.06 -1.53 -3.12 -4.71]]\n",
            "\n",
            "Centroid value: 1.92 \n",
            "Difference matrix:\n",
            " [[ 4.77  3.18  1.59  0.  ]\n",
            " [ 3.31  1.72  0.13 -1.46]\n",
            " [ 0.   -1.59 -3.18 -4.77]\n",
            " [ 2.24  0.65 -0.94 -2.53]]\n",
            "\n",
            "Centroid value: -2.85 \n",
            "Absolute difference matrix:\n",
            " [[ 3.71  2.12  0.53 -1.06]\n",
            " [ 0.97 -0.62 -2.21 -3.8 ]\n",
            " [ 1.36 -0.23 -1.82 -3.41]\n",
            " [ 2.34  0.75 -0.84 -2.43]]\n",
            "\n",
            "Centroid value: -1.26 \n",
            "Absolute difference matrix:\n",
            " [[ 1.15 -0.44 -2.03 -3.62]\n",
            " [ 4.43  2.84  1.25 -0.34]\n",
            " [ 2.97  1.38 -0.21 -1.8 ]\n",
            " [ 0.47 -1.12 -2.71 -4.3 ]]\n",
            "\n",
            "Centroid value: 0.33 \n",
            "Absolute difference matrix:\n",
            " [[ 4.75  3.16  1.57 -0.02]\n",
            " [ 0.66 -0.93 -2.52 -4.11]\n",
            " [ 4.22  2.63  1.04 -0.55]\n",
            " [ 0.06 -1.53 -3.12 -4.71]]\n",
            "\n",
            "Centroid value: 1.92 \n",
            "Absolute difference matrix:\n",
            " [[ 4.77  3.18  1.59  0.  ]\n",
            " [ 3.31  1.72  0.13 -1.46]\n",
            " [ 0.   -1.59 -3.18 -4.77]\n",
            " [ 2.24  0.65 -0.94 -2.53]]\n",
            "\n",
            "Weight matrix:\n",
            "[[ 0.86 -1.88 -1.49 -0.51]\n",
            " [-1.7   1.58  0.12 -2.38]\n",
            " [ 1.9  -2.19  1.37 -2.79]\n",
            " [ 1.92  0.46 -2.85 -0.61]]\n",
            "\n",
            "Centroids:\n",
            "[-2.85 -1.26  0.33  1.92]\n",
            "\n",
            "Indices matrix (assigned centroid indices):\n",
            "[[2 1 1 1]\n",
            " [1 3 2 0]\n",
            " [3 0 3 0]\n",
            " [3 2 0 1]]\n"
          ]
        }
      ],
      "source": [
        "import numpy as np\n",
        "\n",
        "# матрица обученных весов\n",
        "weight_matrix = np.array([\n",
        "    [0.86, -1.88, -1.49, -0.51],\n",
        "    [-1.7, 1.58, 0.12, -2.38],\n",
        "    [1.9, -2.19, 1.37, -2.79],\n",
        "    [1.92, 0.46, -2.85, -0.61]\n",
        "])\n",
        "\n",
        "# задаем центроиды (мы их посчитали заранее)\n",
        "# значения будет подменять индексами массива (поэтому они расположены по возрастанию)\n",
        "# -2.85 => 0\n",
        "# -1.26 => 1\n",
        "#  0.33 => 2\n",
        "#  1.92 => 3\n",
        "centroids = np.array([-2.85, -1.26, 0.33, 1.92])\n",
        "\n",
        "# ищем ближайший центроид к каждому элементу матрицы весов\n",
        "def assign_indices(weight_matrix, centroids):\n",
        "    # 1. вычисляем разницу, чтобы найти ближайшие к центроидам значения:\n",
        "    #    вычитаем значения центроидов из матриц весов\n",
        "    diff = weight_matrix[:, :, None] - centroids\n",
        "    for i in range(len(diff)):\n",
        "        print('Centroid value:', centroids[i], '\\nDifference matrix:\\n', diff[i])\n",
        "        print()\n",
        "    # 2. ищем ближайшие значения:\n",
        "    #    находим модули значений для каждой  difference matrix,\n",
        "    #    чем ближе число к центроиду,\n",
        "    #    тем ближе к 0 его модуль после вычитания центроида из матрицы\n",
        "    abs_diff = np.abs(diff)\n",
        "    for i in range(len(diff)):\n",
        "        print('Centroid value:', centroids[i], '\\nAbsolute difference matrix:\\n', diff[i])\n",
        "        print()\n",
        "    # 3. заменяем вычисленные значения на индексы выявленных минимумов:\n",
        "    #    argmin = 0 в absolute difference matrix\n",
        "    indices = np.argmin(abs_diff, axis=2)\n",
        "    return indices\n",
        "\n",
        "# присваиваем новые индексы\n",
        "indices_matrix = assign_indices(weight_matrix, centroids)\n",
        "\n",
        "print(\"Weight matrix:\")\n",
        "print(weight_matrix)\n",
        "print(\"\\nCentroids:\")\n",
        "print(centroids)\n",
        "print(\"\\nIndices matrix (assigned centroid indices):\")\n",
        "print(indices_matrix)"
      ]
    },
    {
      "cell_type": "code",
      "source": [],
      "metadata": {
        "id": "v5DekNbQ_s1a"
      },
      "execution_count": null,
      "outputs": []
    }
  ]
}