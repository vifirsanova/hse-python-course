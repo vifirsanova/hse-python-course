{
  "nbformat": 4,
  "nbformat_minor": 0,
  "metadata": {
    "colab": {
      "provenance": [],
      "authorship_tag": "ABX9TyNLBtntRhxQNP4cJJvExM1j",
      "include_colab_link": true
    },
    "kernelspec": {
      "name": "python3",
      "display_name": "Python 3"
    },
    "language_info": {
      "name": "python"
    }
  },
  "cells": [
    {
      "cell_type": "markdown",
      "metadata": {
        "id": "view-in-github",
        "colab_type": "text"
      },
      "source": [
        "<a href=\"https://colab.research.google.com/github/vifirsanova/hse-python-course/blob/main/compression/pruning_3.ipynb\" target=\"_parent\"><img src=\"https://colab.research.google.com/assets/colab-badge.svg\" alt=\"Open In Colab\"/></a>"
      ]
    },
    {
      "cell_type": "code",
      "execution_count": 1,
      "metadata": {
        "id": "adsWgMcdnht_",
        "colab": {
          "base_uri": "https://localhost:8080/"
        },
        "outputId": "5025afce-fea9-4858-dd28-91ee3f2152f6"
      },
      "outputs": [
        {
          "output_type": "execute_result",
          "data": {
            "text/plain": [
              "Parameter containing:\n",
              "tensor([[ 5.7519e-02,  3.4067e-01, -5.4836e-05,  2.4430e-02],\n",
              "        [-4.3452e-01,  1.9467e-02,  2.8471e-01, -5.0151e-02],\n",
              "        [-3.5249e-02,  1.5801e-02,  4.6756e-01,  1.0953e-01],\n",
              "        [-3.6130e-01, -3.4057e-01,  2.8024e-01,  1.6853e-02],\n",
              "        [-4.0191e-01, -2.0871e-01,  3.5851e-01,  4.3685e-01],\n",
              "        [ 3.5558e-01,  2.7779e-01, -2.1754e-01, -1.9647e-01],\n",
              "        [-2.7909e-01, -3.4654e-01,  4.6802e-01, -4.3958e-01],\n",
              "        [ 7.6062e-02,  1.8776e-01, -7.6062e-02,  2.2273e-02]],\n",
              "       requires_grad=True)"
            ]
          },
          "metadata": {},
          "execution_count": 1
        }
      ],
      "source": [
        "import torch, torch.nn as nn\n",
        "from torch.nn.utils import prune\n",
        "\n",
        "x = nn.Linear(4, 8)\n",
        "x.weight"
      ]
    },
    {
      "cell_type": "code",
      "source": [
        "p = prune.L1Unstructured(amount=0.7)\n",
        "pruned_tensor = p.prune(x.weight)\n",
        "pruned_tensor"
      ],
      "metadata": {
        "colab": {
          "base_uri": "https://localhost:8080/"
        },
        "id": "WQxM1cApw0g9",
        "outputId": "4880f641-5586-4634-d18b-a838cf0af4c9"
      },
      "execution_count": 2,
      "outputs": [
        {
          "output_type": "execute_result",
          "data": {
            "text/plain": [
              "tensor([[ 0.0000,  0.0000, -0.0000,  0.0000],\n",
              "        [-0.4345,  0.0000,  0.0000, -0.0000],\n",
              "        [-0.0000,  0.0000,  0.4676,  0.0000],\n",
              "        [-0.3613, -0.0000,  0.0000,  0.0000],\n",
              "        [-0.4019, -0.0000,  0.3585,  0.4369],\n",
              "        [ 0.3556,  0.0000, -0.0000, -0.0000],\n",
              "        [-0.0000, -0.3465,  0.4680, -0.4396],\n",
              "        [ 0.0000,  0.0000, -0.0000,  0.0000]], grad_fn=<MulBackward0>)"
            ]
          },
          "metadata": {},
          "execution_count": 2
        }
      ]
    },
    {
      "cell_type": "code",
      "source": [],
      "metadata": {
        "id": "Ht_oCvDVw9oM"
      },
      "execution_count": null,
      "outputs": []
    }
  ]
}