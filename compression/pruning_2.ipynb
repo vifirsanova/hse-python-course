{
  "nbformat": 4,
  "nbformat_minor": 0,
  "metadata": {
    "colab": {
      "provenance": [],
      "gpuType": "T4",
      "authorship_tag": "ABX9TyMMXXfpRIO9hRxgoq26u/8t",
      "include_colab_link": true
    },
    "kernelspec": {
      "name": "python3",
      "display_name": "Python 3"
    },
    "language_info": {
      "name": "python"
    },
    "accelerator": "GPU"
  },
  "cells": [
    {
      "cell_type": "markdown",
      "metadata": {
        "id": "view-in-github",
        "colab_type": "text"
      },
      "source": [
        "<a href=\"https://colab.research.google.com/github/vifirsanova/hse-python-course/blob/main/compression/pruning_2.ipynb\" target=\"_parent\"><img src=\"https://colab.research.google.com/assets/colab-badge.svg\" alt=\"Open In Colab\"/></a>"
      ]
    },
    {
      "cell_type": "code",
      "execution_count": 1,
      "metadata": {
        "id": "4chKLRuCkvR4"
      },
      "outputs": [],
      "source": [
        "import torch\n",
        "import torch.nn as nn\n",
        "import torch.nn.functional as F\n",
        "import torch.optim as optim\n",
        "import torchvision.transforms as transforms\n",
        "from torchvision import datasets\n",
        "from torch.utils.data import DataLoader"
      ]
    },
    {
      "cell_type": "code",
      "source": [
        "device = torch.device(\"cuda\" if torch.cuda.is_available() else \"cpu\")"
      ],
      "metadata": {
        "id": "Sr6Kk57JlJrZ"
      },
      "execution_count": 2,
      "outputs": []
    },
    {
      "cell_type": "code",
      "source": [
        "class SimpleCNN(nn.Module):\n",
        "    def __init__(self):\n",
        "        super(SimpleCNN, self).__init__()\n",
        "        self.conv1 = nn.Conv2d(in_channels=1, out_channels=16, kernel_size=3, padding=1)\n",
        "        self.conv2 = nn.Conv2d(in_channels=16, out_channels=32, kernel_size=3, padding=1)\n",
        "        self.fc1 = nn.Linear(32 * 7 * 7, 128)\n",
        "        self.fc2 = nn.Linear(128, 10)  # 10 classes for MNIST\n",
        "\n",
        "    def forward(self, x):\n",
        "        x = F.relu(self.conv1(x))\n",
        "        x = F.max_pool2d(x, 2)\n",
        "        x = F.relu(self.conv2(x))\n",
        "        x = F.max_pool2d(x, 2)\n",
        "        x = x.view(-1, 32 * 7 * 7)  # Flatten\n",
        "        x = F.relu(self.fc1(x))\n",
        "        x = self.fc2(x)\n",
        "        return x"
      ],
      "metadata": {
        "id": "xyR8Rqa3uqxN"
      },
      "execution_count": 3,
      "outputs": []
    },
    {
      "cell_type": "code",
      "source": [
        "transform = transforms.Compose([transforms.ToTensor()])\n",
        "train_dataset = datasets.MNIST(root='./data', train=True, download=True, transform=transform)\n",
        "test_dataset = datasets.MNIST(root='./data', train=False, download=True, transform=transform)\n",
        "\n",
        "train_loader = DataLoader(train_dataset, batch_size=64, shuffle=True)\n",
        "test_loader = DataLoader(test_dataset, batch_size=64, shuffle=False)\n",
        "\n",
        "test_dataset"
      ],
      "metadata": {
        "id": "BDIraQfhuryx"
      },
      "execution_count": null,
      "outputs": []
    },
    {
      "cell_type": "code",
      "source": [
        "import matplotlib.pyplot as plt\n",
        "\n",
        "image, label = datasets.MNIST(root='./data')[5]\n",
        "plt.imshow(image, cmap='gray')\n",
        "plt.title(f'Label: {label}')\n",
        "plt.show()"
      ],
      "metadata": {
        "colab": {
          "base_uri": "https://localhost:8080/",
          "height": 472
        },
        "id": "d-9HGDiVvyGG",
        "outputId": "390baae5-0aa8-48d1-86b9-2cb03efeaa45"
      },
      "execution_count": 5,
      "outputs": [
        {
          "output_type": "display_data",
          "data": {
            "text/plain": [
              "<Figure size 640x480 with 1 Axes>"
            ],
            "image/png": "[encoded data removed]"
          },
          "metadata": {}
        }
      ]
    },
    {
      "cell_type": "code",
      "source": [
        "model = SimpleCNN().to(device)\n",
        "criterion = nn.CrossEntropyLoss()\n",
        "optimizer = optim.Adam(model.parameters(), lr=0.001)"
      ],
      "metadata": {
        "id": "ndrMEyMGve3M"
      },
      "execution_count": 6,
      "outputs": []
    },
    {
      "cell_type": "code",
      "source": [
        "model.train()\n",
        "for epoch in range(5):\n",
        "  for data, target in train_loader:\n",
        "    data, target = data.to(device), target.to(device)\n",
        "\n",
        "    optimizer.zero_grad()\n",
        "    output = model(data)\n",
        "    loss = criterion(output, target)\n",
        "    loss.backward()\n",
        "    optimizer.step()"
      ],
      "metadata": {
        "id": "2jWZS0gpvLIk"
      },
      "execution_count": 7,
      "outputs": []
    },
    {
      "cell_type": "code",
      "source": [
        "model.eval()\n",
        "correct = 0\n",
        "total = 0\n",
        "\n",
        "with torch.no_grad():\n",
        "    for data, target in test_loader:\n",
        "        data, target = data.to(device), target.to(device)\n",
        "        output = model(data)\n",
        "        _, predicted = torch.max(output.data, 1)\n",
        "        total += target.size(0)\n",
        "        correct += (predicted == target).sum().item()\n",
        "\n",
        "correct / total"
      ],
      "metadata": {
        "colab": {
          "base_uri": "https://localhost:8080/"
        },
        "id": "PnwiWL87wpwu",
        "outputId": "6146305a-22fb-4908-c7ed-db15da772017"
      },
      "execution_count": 8,
      "outputs": [
        {
          "output_type": "execute_result",
          "data": {
            "text/plain": [
              "0.9876"
            ]
          },
          "metadata": {},
          "execution_count": 8
        }
      ]
    },
    {
      "cell_type": "code",
      "source": [
        "print(\"Original conv2 weights shape: \", model.conv2.weight.shape)"
      ],
      "metadata": {
        "colab": {
          "base_uri": "https://localhost:8080/"
        },
        "id": "Q-dS8YsQz9HN",
        "outputId": "7aa5a244-669f-4875-c51b-c978e67492b4"
      },
      "execution_count": 9,
      "outputs": [
        {
          "output_type": "stream",
          "name": "stdout",
          "text": [
            "Original conv2 weights shape:  torch.Size([32, 16, 3, 3])\n"
          ]
        }
      ]
    },
    {
      "cell_type": "code",
      "source": [
        "import torch.nn.utils.prune as prune\n",
        "\n",
        "prune.ln_structured(model.conv2, name='weight', amount=0.3, n=1, dim=0)\n",
        "\n",
        "print(\"Pruned conv2 weights (structured pruning): \", model.conv2.weight)"
      ],
      "metadata": {
        "colab": {
          "base_uri": "https://localhost:8080/"
        },
        "id": "bLF995bwxDcI",
        "outputId": "5092dbbb-3fb6-4813-98fc-13c682d673e5"
      },
      "execution_count": 10,
      "outputs": [
        {
          "output_type": "stream",
          "name": "stdout",
          "text": [
            "Pruned conv2 weights (structured pruning):  tensor([[[[ 0.0174,  0.0186,  0.0910],\n",
            "          [ 0.0566,  0.0423,  0.1656],\n",
            "          [-0.0781, -0.0238, -0.0767]],\n",
            "\n",
            "         [[-0.0153,  0.2052,  0.3743],\n",
            "          [-0.3707, -0.1565, -0.2173],\n",
            "          [-0.1477,  0.0346,  0.2144]],\n",
            "\n",
            "         [[ 0.1312,  0.2666,  0.1396],\n",
            "          [-0.1686, -0.0973, -0.1890],\n",
            "          [ 0.0430,  0.0875,  0.0508]],\n",
            "\n",
            "         ...,\n",
            "\n",
            "         [[-0.0628, -0.0512, -0.0604],\n",
            "          [ 0.0112, -0.0715, -0.0547],\n",
            "          [ 0.0877,  0.1312,  0.0249]],\n",
            "\n",
            "         [[-0.2141, -0.1276, -0.0709],\n",
            "          [-0.0735, -0.0421, -0.1989],\n",
            "          [-0.0736, -0.1735, -0.1534]],\n",
            "\n",
            "         [[ 0.0735,  0.0796,  0.0580],\n",
            "          [ 0.0945,  0.0903, -0.0023],\n",
            "          [-0.1109, -0.0018, -0.1017]]],\n",
            "\n",
            "\n",
            "        [[[-0.1061, -0.0572, -0.0773],\n",
            "          [-0.0305,  0.0268, -0.0458],\n",
            "          [-0.0053,  0.0267, -0.0408]],\n",
            "\n",
            "         [[-0.0997,  0.1224,  0.1705],\n",
            "          [ 0.2474,  0.1377, -0.2337],\n",
            "          [-0.0376, -0.2175, -0.0853]],\n",
            "\n",
            "         [[-0.1081,  0.0979,  0.0047],\n",
            "          [ 0.0584, -0.0447, -0.0298],\n",
            "          [ 0.1146,  0.1876,  0.1189]],\n",
            "\n",
            "         ...,\n",
            "\n",
            "         [[-0.1645, -0.1571, -0.2912],\n",
            "          [-0.1977, -0.3790, -0.3134],\n",
            "          [-0.2054, -0.1681,  0.0235]],\n",
            "\n",
            "         [[-0.0716, -0.0483,  0.0371],\n",
            "          [ 0.0271, -0.0015, -0.2187],\n",
            "          [-0.0483, -0.1086, -0.2181]],\n",
            "\n",
            "         [[-0.1542, -0.1308, -0.0999],\n",
            "          [ 0.0500, -0.0072,  0.0093],\n",
            "          [ 0.0815,  0.0788, -0.0088]]],\n",
            "\n",
            "\n",
            "        [[[-0.0000, -0.0000, -0.0000],\n",
            "          [-0.0000,  0.0000, -0.0000],\n",
            "          [ 0.0000, -0.0000, -0.0000]],\n",
            "\n",
            "         [[ 0.0000,  0.0000, -0.0000],\n",
            "          [ 0.0000, -0.0000, -0.0000],\n",
            "          [-0.0000, -0.0000, -0.0000]],\n",
            "\n",
            "         [[ 0.0000,  0.0000, -0.0000],\n",
            "          [-0.0000,  0.0000,  0.0000],\n",
            "          [ 0.0000,  0.0000,  0.0000]],\n",
            "\n",
            "         ...,\n",
            "\n",
            "         [[-0.0000, -0.0000, -0.0000],\n",
            "          [-0.0000, -0.0000, -0.0000],\n",
            "          [-0.0000, -0.0000, -0.0000]],\n",
            "\n",
            "         [[-0.0000, -0.0000,  0.0000],\n",
            "          [ 0.0000, -0.0000, -0.0000],\n",
            "          [-0.0000,  0.0000, -0.0000]],\n",
            "\n",
            "         [[-0.0000, -0.0000, -0.0000],\n",
            "          [-0.0000, -0.0000, -0.0000],\n",
            "          [ 0.0000,  0.0000, -0.0000]]],\n",
            "\n",
            "\n",
            "        ...,\n",
            "\n",
            "\n",
            "        [[[-0.0000, -0.0000,  0.0000],\n",
            "          [-0.0000, -0.0000, -0.0000],\n",
            "          [ 0.0000,  0.0000,  0.0000]],\n",
            "\n",
            "         [[ 0.0000, -0.0000, -0.0000],\n",
            "          [ 0.0000,  0.0000,  0.0000],\n",
            "          [-0.0000, -0.0000,  0.0000]],\n",
            "\n",
            "         [[ 0.0000,  0.0000,  0.0000],\n",
            "          [ 0.0000,  0.0000,  0.0000],\n",
            "          [ 0.0000,  0.0000,  0.0000]],\n",
            "\n",
            "         ...,\n",
            "\n",
            "         [[ 0.0000, -0.0000,  0.0000],\n",
            "          [-0.0000,  0.0000,  0.0000],\n",
            "          [-0.0000, -0.0000, -0.0000]],\n",
            "\n",
            "         [[-0.0000,  0.0000,  0.0000],\n",
            "          [-0.0000, -0.0000,  0.0000],\n",
            "          [-0.0000, -0.0000, -0.0000]],\n",
            "\n",
            "         [[-0.0000, -0.0000,  0.0000],\n",
            "          [ 0.0000, -0.0000, -0.0000],\n",
            "          [-0.0000,  0.0000,  0.0000]]],\n",
            "\n",
            "\n",
            "        [[[-0.1891, -0.0789, -0.0302],\n",
            "          [ 0.0510, -0.0191, -0.0230],\n",
            "          [ 0.0941,  0.0025,  0.0162]],\n",
            "\n",
            "         [[ 0.3159,  0.0957, -0.2999],\n",
            "          [ 0.1678,  0.0275, -0.0443],\n",
            "          [-0.3229, -0.1710, -0.0239]],\n",
            "\n",
            "         [[ 0.2116,  0.1334, -0.0539],\n",
            "          [ 0.0543,  0.1618,  0.1382],\n",
            "          [-0.1251,  0.0039,  0.0220]],\n",
            "\n",
            "         ...,\n",
            "\n",
            "         [[ 0.1059,  0.1579, -0.0007],\n",
            "          [ 0.0193,  0.1453,  0.1940],\n",
            "          [ 0.0256, -0.0448, -0.0091]],\n",
            "\n",
            "         [[-0.2297, -0.2024, -0.1247],\n",
            "          [-0.2941, -0.2469, -0.4072],\n",
            "          [-0.0253,  0.0021,  0.0292]],\n",
            "\n",
            "         [[-0.1344, -0.0781, -0.1899],\n",
            "          [ 0.0517,  0.1263, -0.0257],\n",
            "          [ 0.0733,  0.0561,  0.0825]]],\n",
            "\n",
            "\n",
            "        [[[-0.1454, -0.0900,  0.0070],\n",
            "          [ 0.0024,  0.0665,  0.0375],\n",
            "          [-0.0518, -0.0230, -0.0049]],\n",
            "\n",
            "         [[ 0.2175,  0.1528, -0.0683],\n",
            "          [ 0.1615, -0.1953, -0.4047],\n",
            "          [-0.2404, -0.1280, -0.2525]],\n",
            "\n",
            "         [[ 0.1181, -0.0274, -0.1300],\n",
            "          [ 0.0927, -0.0436, -0.2905],\n",
            "          [ 0.0566, -0.0980, -0.2717]],\n",
            "\n",
            "         ...,\n",
            "\n",
            "         [[-0.0580,  0.0697,  0.0721],\n",
            "          [ 0.0369,  0.0093, -0.0132],\n",
            "          [ 0.1230,  0.0138,  0.0675]],\n",
            "\n",
            "         [[-0.1494, -0.0657, -0.2171],\n",
            "          [ 0.0137, -0.0274,  0.0193],\n",
            "          [ 0.1654,  0.0863,  0.1112]],\n",
            "\n",
            "         [[-0.0989, -0.0677, -0.0354],\n",
            "          [ 0.0879, -0.0047,  0.1063],\n",
            "          [-0.0172, -0.0598,  0.0371]]]], device='cuda:0',\n",
            "       grad_fn=<MulBackward0>)\n"
          ]
        }
      ]
    },
    {
      "cell_type": "code",
      "source": [
        "num_pruned_filters = (model.conv2.weight == 0).all(dim=(1, 2, 3)).sum().item()\n",
        "print(f\"Number of pruned filters in conv2: {num_pruned_filters}\")"
      ],
      "metadata": {
        "colab": {
          "base_uri": "https://localhost:8080/"
        },
        "id": "rAp6QGJqzEcJ",
        "outputId": "5651151f-fd10-4a69-c9dc-94c5f780625d"
      },
      "execution_count": 11,
      "outputs": [
        {
          "output_type": "stream",
          "name": "stdout",
          "text": [
            "Number of pruned filters in conv2: 10\n"
          ]
        }
      ]
    },
    {
      "cell_type": "code",
      "source": [
        "for epoch in range(1):\n",
        "    model.train()\n",
        "    for batch_idx, (data, target) in enumerate(train_loader):\n",
        "        data, target = data.to(device), target.to(device)\n",
        "        optimizer.zero_grad()\n",
        "        output = model(data)\n",
        "        loss = criterion(output, target)\n",
        "        loss.backward()\n",
        "        optimizer.step()"
      ],
      "metadata": {
        "id": "SKFa4BRVyrz9"
      },
      "execution_count": 12,
      "outputs": []
    },
    {
      "cell_type": "code",
      "source": [
        "model.eval()\n",
        "correct = 0\n",
        "total = 0\n",
        "\n",
        "with torch.no_grad():\n",
        "    for data, target in test_loader:\n",
        "        data, target = data.to(device), target.to(device)\n",
        "        output = model(data)\n",
        "        _, predicted = torch.max(output.data, 1)\n",
        "        total += target.size(0)\n",
        "        correct += (predicted == target).sum().item()\n",
        "\n",
        "correct / total"
      ],
      "metadata": {
        "colab": {
          "base_uri": "https://localhost:8080/"
        },
        "id": "Q_fmMItJ1a06",
        "outputId": "97ca0a3c-4c43-4b83-cc97-beb9e775ce80"
      },
      "execution_count": 13,
      "outputs": [
        {
          "output_type": "execute_result",
          "data": {
            "text/plain": [
              "0.9887"
            ]
          },
          "metadata": {},
          "execution_count": 13
        }
      ]
    },
    {
      "cell_type": "code",
      "source": [],
      "metadata": {
        "id": "R-XmBfaS1bRT"
      },
      "execution_count": 13,
      "outputs": []
    }
  ]
}