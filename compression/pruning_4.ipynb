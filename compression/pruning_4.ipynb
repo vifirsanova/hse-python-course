{
  "nbformat": 4,
  "nbformat_minor": 0,
  "metadata": {
    "colab": {
      "provenance": [],
      "gpuType": "T4",
      "authorship_tag": "ABX9TyNjml9et/ZLbTfpVSVdFtpL",
      "include_colab_link": true
    },
    "kernelspec": {
      "name": "python3",
      "display_name": "Python 3"
    },
    "language_info": {
      "name": "python"
    },
    "accelerator": "GPU"
  },
  "cells": [
    {
      "cell_type": "markdown",
      "metadata": {
        "id": "view-in-github",
        "colab_type": "text"
      },
      "source": [
        "<a href=\"https://colab.research.google.com/github/vifirsanova/hse-python-course/blob/main/compression/pruning_3.ipynb\" target=\"_parent\"><img src=\"https://colab.research.google.com/assets/colab-badge.svg\" alt=\"Open In Colab\"/></a>"
      ]
    },
    {
      "cell_type": "code",
      "execution_count": 1,
      "metadata": {
        "id": "ZyGVhLeBehcx"
      },
      "outputs": [],
      "source": [
        "import torch\n",
        "import torch.nn as nn\n",
        "import torch.optim as optim\n",
        "import torch.nn.utils.prune as prune\n",
        "import torchvision\n",
        "import torchvision.transforms as transforms"
      ]
    },
    {
      "cell_type": "code",
      "source": [
        "device = torch.device(\"cuda\" if torch.cuda.is_available() else \"cpu\")"
      ],
      "metadata": {
        "id": "xPIH8Y1Bf1AV"
      },
      "execution_count": 2,
      "outputs": []
    },
    {
      "cell_type": "code",
      "source": [
        "transform = transforms.Compose([transforms.ToTensor(), transforms.Normalize((0.5,), (0.5,))])\n",
        "\n",
        "trainset = torchvision.datasets.MNIST(root='./data', train=True, download=True, transform=transform)\n",
        "trainloader = torch.utils.data.DataLoader(trainset, batch_size=64, shuffle=True)\n",
        "\n",
        "testset = torchvision.datasets.MNIST(root='./data', train=False, download=True, transform=transform)\n",
        "testloader = torch.utils.data.DataLoader(testset, batch_size=64, shuffle=False)"
      ],
      "metadata": {
        "id": "az04bPTle4gE"
      },
      "execution_count": null,
      "outputs": []
    },
    {
      "cell_type": "code",
      "source": [
        "class MNISTModel(nn.Module):\n",
        "    def __init__(self):\n",
        "        super(MNISTModel, self).__init__()\n",
        "        self.fc1 = nn.Linear(28 * 28, 300)\n",
        "        self.fc2 = nn.Linear(300, 100)\n",
        "        self.fc3 = nn.Linear(100, 10)\n",
        "\n",
        "    def forward(self, x):\n",
        "        x = x.view(-1, 28 * 28)  # Flatten the image\n",
        "        x = torch.relu(self.fc1(x))\n",
        "        x = torch.relu(self.fc2(x))\n",
        "        x = self.fc3(x)\n",
        "        return x"
      ],
      "metadata": {
        "id": "rUz9bZnbe7tQ"
      },
      "execution_count": 4,
      "outputs": []
    },
    {
      "cell_type": "code",
      "source": [
        "model = MNISTModel()"
      ],
      "metadata": {
        "id": "ydUH3YGAe_c1"
      },
      "execution_count": 5,
      "outputs": []
    },
    {
      "cell_type": "code",
      "source": [
        "def train_model(model, trainloader, epochs=5):\n",
        "    criterion = nn.CrossEntropyLoss()\n",
        "    optimizer = optim.SGD(model.parameters(), lr=0.01, momentum=0.9)\n",
        "\n",
        "    model.train()\n",
        "    for epoch in range(epochs):\n",
        "        running_loss = 0.0\n",
        "        for images, labels in trainloader:\n",
        "            # Move data to the device (GPU or CPU)\n",
        "            images, labels = images.to(device), labels.to(device)\n",
        "\n",
        "            optimizer.zero_grad()\n",
        "            outputs = model(images)\n",
        "            loss = criterion(outputs, labels)\n",
        "            loss.backward()\n",
        "            optimizer.step()\n",
        "            running_loss += loss.item()\n",
        "\n",
        "        print(f\"Epoch [{epoch + 1}/{epochs}], Loss: {running_loss / len(trainloader):.4f}\")"
      ],
      "metadata": {
        "id": "dDZ1EytbfPeP"
      },
      "execution_count": 6,
      "outputs": []
    },
    {
      "cell_type": "code",
      "source": [
        "def test_model(model, testloader):\n",
        "    model.eval()\n",
        "    correct = 0\n",
        "    total = 0\n",
        "    with torch.no_grad():\n",
        "        for images, labels in testloader:\n",
        "            images, labels = images.to(device), labels.to(device)  # Move to GPU/CPU\n",
        "            outputs = model(images)\n",
        "            _, predicted = torch.max(outputs, 1)\n",
        "            total += labels.size(0)\n",
        "            correct += (predicted == labels).sum().item()\n",
        "\n",
        "    accuracy = 100 * correct / total\n",
        "    print(f'Accuracy: {accuracy:.2f}%')\n",
        "    return accuracy"
      ],
      "metadata": {
        "id": "UytFy391f7Ml"
      },
      "execution_count": 7,
      "outputs": []
    },
    {
      "cell_type": "code",
      "source": [
        "model = MNISTModel().to(device)  # Move the model to GPU/CPU\n",
        "print(\"Training before pruning:\")\n",
        "train_model(model, trainloader, epochs=5)"
      ],
      "metadata": {
        "colab": {
          "base_uri": "https://localhost:8080/"
        },
        "id": "hWWF1QITfTf2",
        "outputId": "49e91204-3370-4a59-ebff-fc4ac7a6503d"
      },
      "execution_count": 8,
      "outputs": [
        {
          "output_type": "stream",
          "name": "stdout",
          "text": [
            "Training before pruning:\n",
            "Epoch [1/5], Loss: 0.3999\n",
            "Epoch [2/5], Loss: 0.1636\n",
            "Epoch [3/5], Loss: 0.1177\n",
            "Epoch [4/5], Loss: 0.0904\n",
            "Epoch [5/5], Loss: 0.0751\n"
          ]
        }
      ]
    },
    {
      "cell_type": "code",
      "source": [
        "print(\"Testing before pruning:\")\n",
        "accuracy_before_pruning = test_model(model, testloader)"
      ],
      "metadata": {
        "colab": {
          "base_uri": "https://localhost:8080/"
        },
        "id": "fUYXPuPigBc8",
        "outputId": "b09338f9-b5c7-4b30-a252-897870dbedea"
      },
      "execution_count": 9,
      "outputs": [
        {
          "output_type": "stream",
          "name": "stdout",
          "text": [
            "Testing before pruning:\n",
            "Accuracy: 97.41%\n"
          ]
        }
      ]
    },
    {
      "cell_type": "code",
      "source": [
        "def print_weight_statistics(layer, name):\n",
        "    nonzero = torch.count_nonzero(layer.weight)\n",
        "    total = layer.weight.numel()\n",
        "    sparsity = 100 - (nonzero / total * 100)\n",
        "    print(f\"{name}: Non-zero weights: {nonzero}, Total weights: {total}, Sparsity: {sparsity:.2f}%\")\n",
        "    print(f\"Sample of weights from {name}: {layer.weight.flatten()[:10]}\")"
      ],
      "metadata": {
        "id": "VK4o7TGjggX0"
      },
      "execution_count": 10,
      "outputs": []
    },
    {
      "cell_type": "code",
      "source": [
        "print(\"Weight statistics before pruning:\")\n",
        "print_weight_statistics(model.fc1, \"fc1\")\n",
        "print_weight_statistics(model.fc2, \"fc2\")"
      ],
      "metadata": {
        "colab": {
          "base_uri": "https://localhost:8080/"
        },
        "id": "fBSfaLLphSqz",
        "outputId": "975993d1-1568-4417-c919-2f5810da6e39"
      },
      "execution_count": 11,
      "outputs": [
        {
          "output_type": "stream",
          "name": "stdout",
          "text": [
            "Weight statistics before pruning:\n",
            "fc1: Non-zero weights: 235200, Total weights: 235200, Sparsity: 0.00%\n",
            "Sample of weights from fc1: tensor([ 0.0263,  0.0347,  0.0025, -0.0264, -0.0272,  0.0300,  0.0090, -0.0043,\n",
            "        -0.0122,  0.0257], device='cuda:0', grad_fn=<SliceBackward0>)\n",
            "fc2: Non-zero weights: 30000, Total weights: 30000, Sparsity: 0.00%\n",
            "Sample of weights from fc2: tensor([ 0.0817, -0.0483, -0.0303, -0.0522,  0.0482, -0.0035, -0.0059,  0.0037,\n",
            "        -0.1134,  0.0235], device='cuda:0', grad_fn=<SliceBackward0>)\n"
          ]
        }
      ]
    },
    {
      "cell_type": "code",
      "source": [
        "def check_sparsity(layer):\n",
        "    nonzero = torch.count_nonzero(layer.weight)\n",
        "    total = layer.weight.numel()\n",
        "    print(f\"Sparsity of {layer}: {100 - (nonzero / total * 100):.2f}%\")"
      ],
      "metadata": {
        "id": "WyJOhN5NgVyT"
      },
      "execution_count": 12,
      "outputs": []
    },
    {
      "cell_type": "code",
      "source": [
        "prune.l1_unstructured(model.fc1, name='weight', amount=0.5)\n",
        "prune.l1_unstructured(model.fc2, name='weight', amount=0.3)\n",
        "\n",
        "check_sparsity(model.fc1)\n",
        "check_sparsity(model.fc2)"
      ],
      "metadata": {
        "colab": {
          "base_uri": "https://localhost:8080/"
        },
        "id": "8KI2_7_6gZsT",
        "outputId": "6b1e55ab-cd1d-4527-cc5a-65604ab031b3"
      },
      "execution_count": 13,
      "outputs": [
        {
          "output_type": "stream",
          "name": "stdout",
          "text": [
            "Sparsity of Linear(in_features=784, out_features=300, bias=True): 50.00%\n",
            "Sparsity of Linear(in_features=300, out_features=100, bias=True): 30.00%\n"
          ]
        }
      ]
    },
    {
      "cell_type": "code",
      "source": [
        "print(\"\\nApplying pruning to fc1 (50%) and fc2 (30%)...\")\n",
        "prune.l1_unstructured(model.fc1, name='weight', amount=0.5)\n",
        "prune.l1_unstructured(model.fc2, name='weight', amount=0.3)"
      ],
      "metadata": {
        "colab": {
          "base_uri": "https://localhost:8080/"
        },
        "id": "eGfL9y_6hWCA",
        "outputId": "d1b73d44-bcaf-45b2-d66f-20a6c468a960"
      },
      "execution_count": 14,
      "outputs": [
        {
          "output_type": "stream",
          "name": "stdout",
          "text": [
            "\n",
            "Applying pruning to fc1 (50%) and fc2 (30%)...\n"
          ]
        },
        {
          "output_type": "execute_result",
          "data": {
            "text/plain": [
              "Linear(in_features=300, out_features=100, bias=True)"
            ]
          },
          "metadata": {},
          "execution_count": 14
        }
      ]
    },
    {
      "cell_type": "code",
      "source": [
        "print(\"Retraining after pruning:\")\n",
        "train_model(model, trainloader, epochs=5)"
      ],
      "metadata": {
        "colab": {
          "base_uri": "https://localhost:8080/"
        },
        "id": "VBODSC_qgb9M",
        "outputId": "32f78590-7685-4428-9f99-4ebd91aa68fa"
      },
      "execution_count": 15,
      "outputs": [
        {
          "output_type": "stream",
          "name": "stdout",
          "text": [
            "Retraining after pruning:\n",
            "Epoch [1/5], Loss: 0.0504\n",
            "Epoch [2/5], Loss: 0.0404\n",
            "Epoch [3/5], Loss: 0.0354\n",
            "Epoch [4/5], Loss: 0.0301\n",
            "Epoch [5/5], Loss: 0.0258\n"
          ]
        }
      ]
    },
    {
      "cell_type": "code",
      "source": [
        "print(\"Testing after pruning:\")\n",
        "accuracy_after_pruning = test_model(model, testloader)"
      ],
      "metadata": {
        "colab": {
          "base_uri": "https://localhost:8080/"
        },
        "id": "_RBtg7qIgvH7",
        "outputId": "4011fa83-00a3-43e7-b38a-1807d742b42a"
      },
      "execution_count": 16,
      "outputs": [
        {
          "output_type": "stream",
          "name": "stdout",
          "text": [
            "Testing after pruning:\n",
            "Accuracy: 98.01%\n"
          ]
        }
      ]
    },
    {
      "cell_type": "code",
      "source": [
        "print(\"\\nWeight statistics after pruning:\")\n",
        "print_weight_statistics(model.fc1, \"fc1\")\n",
        "print_weight_statistics(model.fc2, \"fc2\")"
      ],
      "metadata": {
        "colab": {
          "base_uri": "https://localhost:8080/"
        },
        "id": "NSoIH1ZCihu4",
        "outputId": "4dad1c7e-7463-462c-8a97-172ffbd77967"
      },
      "execution_count": 17,
      "outputs": [
        {
          "output_type": "stream",
          "name": "stdout",
          "text": [
            "\n",
            "Weight statistics after pruning:\n",
            "fc1: Non-zero weights: 58800, Total weights: 235200, Sparsity: 75.00%\n",
            "Sample of weights from fc1: tensor([0.0000, 0.0294, 0.0000, -0.0000, -0.0000, 0.0000, 0.0000, -0.0000, -0.0000,\n",
            "        0.0000], device='cuda:0')\n",
            "fc2: Non-zero weights: 14700, Total weights: 30000, Sparsity: 51.00%\n",
            "Sample of weights from fc2: tensor([ 0.0633, -0.0525, -0.0000, -0.0544,  0.0554, -0.0000, -0.0000,  0.0000,\n",
            "        -0.1676,  0.0000], device='cuda:0')\n"
          ]
        }
      ]
    },
    {
      "cell_type": "code",
      "source": [
        "model.fc1.weight"
      ],
      "metadata": {
        "colab": {
          "base_uri": "https://localhost:8080/"
        },
        "id": "fvTuV9VijFu3",
        "outputId": "fcd11a56-4e8f-4c82-e164-9f1214656990"
      },
      "execution_count": 18,
      "outputs": [
        {
          "output_type": "execute_result",
          "data": {
            "text/plain": [
              "tensor([[ 0.0000,  0.0294,  0.0000,  ..., -0.0000,  0.0000,  0.0000],\n",
              "        [ 0.0000, -0.0286,  0.0000,  ..., -0.0287, -0.0000, -0.0000],\n",
              "        [ 0.0000, -0.0000, -0.0000,  ...,  0.0000,  0.0000, -0.0000],\n",
              "        ...,\n",
              "        [-0.0000, -0.0000, -0.0000,  ..., -0.0000, -0.0000, -0.0000],\n",
              "        [ 0.0355,  0.0000,  0.0333,  ...,  0.0000,  0.0000, -0.0000],\n",
              "        [ 0.0000, -0.0000, -0.0000,  ..., -0.0000, -0.0000, -0.0425]],\n",
              "       device='cuda:0')"
            ]
          },
          "metadata": {},
          "execution_count": 18
        }
      ]
    },
    {
      "cell_type": "code",
      "source": [
        "model.fc2.weight"
      ],
      "metadata": {
        "colab": {
          "base_uri": "https://localhost:8080/"
        },
        "id": "BXMHqaiwjJPs",
        "outputId": "97d96bc3-fc1f-45c1-e649-e9929fc6d631"
      },
      "execution_count": 19,
      "outputs": [
        {
          "output_type": "execute_result",
          "data": {
            "text/plain": [
              "tensor([[ 0.0633, -0.0525, -0.0000,  ...,  0.0000, -0.0437,  0.0272],\n",
              "        [ 0.0748, -0.0000,  0.0686,  ...,  0.0000, -0.0769,  0.0842],\n",
              "        [-0.0000, -0.0000,  0.0000,  ..., -0.0000,  0.0000,  0.1571],\n",
              "        ...,\n",
              "        [ 0.0000, -0.0451, -0.0000,  ...,  0.0616,  0.0000,  0.0262],\n",
              "        [-0.0000,  0.0000, -0.0258,  ..., -0.0000, -0.0970, -0.1338],\n",
              "        [ 0.0729,  0.0000, -0.0000,  ..., -0.1437, -0.0000,  0.0392]],\n",
              "       device='cuda:0')"
            ]
          },
          "metadata": {},
          "execution_count": 19
        }
      ]
    },
    {
      "cell_type": "code",
      "source": [],
      "metadata": {
        "id": "hbWjIFJ6jOQo"
      },
      "execution_count": null,
      "outputs": []
    }
  ]
}
