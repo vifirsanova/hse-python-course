{
  "cells": [
    {
      "cell_type": "markdown",
      "metadata": {
        "id": "view-in-github",
        "colab_type": "text"
      },
      "source": [
        "<a href=\"https://colab.research.google.com/github/vifirsanova/hse-python-course/blob/main/compression/quantization_3.ipynb\" target=\"_parent\"><img src=\"https://colab.research.google.com/assets/colab-badge.svg\" alt=\"Open In Colab\"/></a>"
      ]
    },
    {
      "cell_type": "code",
      "execution_count": 25,
      "metadata": {
        "id": "gyqAw1M9lyab"
      },
      "outputs": [],
      "source": [
        "import tensorflow as tf\n",
        "from tensorflow.keras import datasets, layers, models"
      ]
    },
    {
      "cell_type": "code",
      "source": [
        "# загружаем данные\n",
        "(X_train, y_train), (X_test, y_test) = datasets.mnist.load_data()\n",
        "\n",
        "# регуляризация изображений (значения в диапазоне от 0 до 1)\n",
        "X_train, X_test = X_train / 255.0, X_test / 255.0\n",
        "\n",
        "# подгоняем размер изображений под модель\n",
        "X_train = X_train.reshape(-1, 28 * 28)\n",
        "X_test = X_test.reshape(-1, 28 * 28)"
      ],
      "metadata": {
        "id": "bgIWGxAvDwM5"
      },
      "execution_count": 26,
      "outputs": []
    },
    {
      "cell_type": "code",
      "source": [
        "model = models.Sequential([\n",
        "    layers.Dense(128, activation='relu', input_shape=(784,)),\n",
        "    layers.Dropout(0.2),\n",
        "    layers.Dense(10, activation='softmax')\n",
        "])\n",
        "\n",
        "model.compile(optimizer='adam',\n",
        "              loss='sparse_categorical_crossentropy',\n",
        "              metrics=['accuracy'])\n",
        "\n",
        "model.fit(X_train, y_train, epochs=10, batch_size=64, validation_data=(X_test, y_test))"
      ],
      "metadata": {
        "colab": {
          "base_uri": "https://localhost:8080/"
        },
        "id": "JVPwiOgkD9MV",
        "outputId": "d79e04f0-5514-4006-cfc5-71ef2a0264ed"
      },
      "execution_count": 27,
      "outputs": [
        {
          "output_type": "stream",
          "name": "stderr",
          "text": [
            "/usr/local/lib/python3.10/dist-packages/keras/src/layers/core/dense.py:87: UserWarning: Do not pass an `input_shape`/`input_dim` argument to a layer. When using Sequential models, prefer using an `Input(shape)` object as the first layer in the model instead.\n",
            "  super().__init__(activity_regularizer=activity_regularizer, **kwargs)\n"
          ]
        },
        {
          "output_type": "stream",
          "name": "stdout",
          "text": [
            "Epoch 1/10\n",
            "\u001b[1m938/938\u001b[0m \u001b[32m━━━━━━━━━━━━━━━━━━━━\u001b[0m\u001b[37m\u001b[0m \u001b[1m5s\u001b[0m 4ms/step - accuracy: 0.8392 - loss: 0.5577 - val_accuracy: 0.9498 - val_loss: 0.1691\n",
            "Epoch 2/10\n",
            "\u001b[1m938/938\u001b[0m \u001b[32m━━━━━━━━━━━━━━━━━━━━\u001b[0m\u001b[37m\u001b[0m \u001b[1m3s\u001b[0m 3ms/step - accuracy: 0.9477 - loss: 0.1799 - val_accuracy: 0.9638 - val_loss: 0.1227\n",
            "Epoch 3/10\n",
            "\u001b[1m938/938\u001b[0m \u001b[32m━━━━━━━━━━━━━━━━━━━━\u001b[0m\u001b[37m\u001b[0m \u001b[1m6s\u001b[0m 4ms/step - accuracy: 0.9629 - loss: 0.1237 - val_accuracy: 0.9714 - val_loss: 0.0945\n",
            "Epoch 4/10\n",
            "\u001b[1m938/938\u001b[0m \u001b[32m━━━━━━━━━━━━━━━━━━━━\u001b[0m\u001b[37m\u001b[0m \u001b[1m4s\u001b[0m 4ms/step - accuracy: 0.9702 - loss: 0.0997 - val_accuracy: 0.9741 - val_loss: 0.0847\n",
            "Epoch 5/10\n",
            "\u001b[1m938/938\u001b[0m \u001b[32m━━━━━━━━━━━━━━━━━━━━\u001b[0m\u001b[37m\u001b[0m \u001b[1m4s\u001b[0m 3ms/step - accuracy: 0.9741 - loss: 0.0827 - val_accuracy: 0.9758 - val_loss: 0.0779\n",
            "Epoch 6/10\n",
            "\u001b[1m938/938\u001b[0m \u001b[32m━━━━━━━━━━━━━━━━━━━━\u001b[0m\u001b[37m\u001b[0m \u001b[1m6s\u001b[0m 5ms/step - accuracy: 0.9775 - loss: 0.0745 - val_accuracy: 0.9768 - val_loss: 0.0770\n",
            "Epoch 7/10\n",
            "\u001b[1m938/938\u001b[0m \u001b[32m━━━━━━━━━━━━━━━━━━━━\u001b[0m\u001b[37m\u001b[0m \u001b[1m4s\u001b[0m 3ms/step - accuracy: 0.9809 - loss: 0.0616 - val_accuracy: 0.9762 - val_loss: 0.0736\n",
            "Epoch 8/10\n",
            "\u001b[1m938/938\u001b[0m \u001b[32m━━━━━━━━━━━━━━━━━━━━\u001b[0m\u001b[37m\u001b[0m \u001b[1m5s\u001b[0m 3ms/step - accuracy: 0.9816 - loss: 0.0580 - val_accuracy: 0.9790 - val_loss: 0.0699\n",
            "Epoch 9/10\n",
            "\u001b[1m938/938\u001b[0m \u001b[32m━━━━━━━━━━━━━━━━━━━━\u001b[0m\u001b[37m\u001b[0m \u001b[1m6s\u001b[0m 4ms/step - accuracy: 0.9844 - loss: 0.0502 - val_accuracy: 0.9793 - val_loss: 0.0693\n",
            "Epoch 10/10\n",
            "\u001b[1m938/938\u001b[0m \u001b[32m━━━━━━━━━━━━━━━━━━━━\u001b[0m\u001b[37m\u001b[0m \u001b[1m3s\u001b[0m 3ms/step - accuracy: 0.9847 - loss: 0.0459 - val_accuracy: 0.9798 - val_loss: 0.0672\n"
          ]
        },
        {
          "output_type": "execute_result",
          "data": {
            "text/plain": [
              "<keras.src.callbacks.history.History at 0x7ca40a9429e0>"
            ]
          },
          "metadata": {},
          "execution_count": 27
        }
      ]
    },
    {
      "cell_type": "code",
      "source": [
        "test_loss, test_acc = model.evaluate(X_test, y_test)\n",
        "print(f'Test accuracy: {test_acc * 100:.2f}%')"
      ],
      "metadata": {
        "colab": {
          "base_uri": "https://localhost:8080/"
        },
        "id": "VpCygEQ8Fx_Z",
        "outputId": "54da02ab-861d-42af-ef4c-98eb3d9412ba"
      },
      "execution_count": 28,
      "outputs": [
        {
          "output_type": "stream",
          "name": "stdout",
          "text": [
            "\u001b[1m313/313\u001b[0m \u001b[32m━━━━━━━━━━━━━━━━━━━━\u001b[0m\u001b[37m\u001b[0m \u001b[1m0s\u001b[0m 1ms/step - accuracy: 0.9759 - loss: 0.0807\n",
            "Test accuracy: 97.98%\n"
          ]
        }
      ]
    },
    {
      "cell_type": "markdown",
      "metadata": {
        "id": "xl8_fzVAZwOh"
      },
      "source": [
        "Конвертируем к виду моделиTensorFlow Lite"
      ]
    },
    {
      "cell_type": "code",
      "execution_count": 29,
      "metadata": {
        "id": "_i8B2nDZmAgQ",
        "colab": {
          "base_uri": "https://localhost:8080/"
        },
        "outputId": "e6fdec7e-ea7b-46e7-cad1-59e1b5a93640"
      },
      "outputs": [
        {
          "output_type": "stream",
          "name": "stderr",
          "text": [
            "INFO:tensorflow:Assets written to: /tmp/tmpocloqyqr/assets\n"
          ]
        },
        {
          "output_type": "stream",
          "name": "stdout",
          "text": [
            "Saved artifact at '/tmp/tmpocloqyqr'. The following endpoints are available:\n",
            "\n",
            "* Endpoint 'serve'\n",
            "  args_0 (POSITIONAL_ONLY): TensorSpec(shape=(None, 784), dtype=tf.float32, name='keras_tensor_4')\n",
            "Output Type:\n",
            "  TensorSpec(shape=(None, 10), dtype=tf.float32, name=None)\n",
            "Captures:\n",
            "  137043483990976: TensorSpec(shape=(), dtype=tf.resource, name=None)\n",
            "  137043483988512: TensorSpec(shape=(), dtype=tf.resource, name=None)\n",
            "  137043992887536: TensorSpec(shape=(), dtype=tf.resource, name=None)\n",
            "  137043484720848: TensorSpec(shape=(), dtype=tf.resource, name=None)\n"
          ]
        },
        {
          "output_type": "stream",
          "name": "stderr",
          "text": [
            "INFO:tensorflow:Assets written to: /tmp/tmp36qfh7tg/assets\n"
          ]
        },
        {
          "output_type": "stream",
          "name": "stdout",
          "text": [
            "Saved artifact at '/tmp/tmp36qfh7tg'. The following endpoints are available:\n",
            "\n",
            "* Endpoint 'serve'\n",
            "  args_0 (POSITIONAL_ONLY): TensorSpec(shape=(None, 784), dtype=tf.float32, name='keras_tensor_4')\n",
            "Output Type:\n",
            "  TensorSpec(shape=(None, 10), dtype=tf.float32, name=None)\n",
            "Captures:\n",
            "  137043483990976: TensorSpec(shape=(), dtype=tf.resource, name=None)\n",
            "  137043483988512: TensorSpec(shape=(), dtype=tf.resource, name=None)\n",
            "  137043992887536: TensorSpec(shape=(), dtype=tf.resource, name=None)\n",
            "  137043484720848: TensorSpec(shape=(), dtype=tf.resource, name=None)\n"
          ]
        }
      ],
      "source": [
        "converter = tf.lite.TFLiteConverter.from_keras_model(model)\n",
        "tflite_model = converter.convert()\n",
        "\n",
        "# сохраняем исходную модель\n",
        "with open('mnist_model.tflite', 'wb') as f:\n",
        "    f.write(tflite_model)\n",
        "\n",
        "# применяем квантизацию\n",
        "converter.optimizations = [tf.lite.Optimize.DEFAULT]\n",
        "tflite_quant_model = converter.convert()\n",
        "\n",
        "with open('mnist_model_quant.tflite', 'wb') as f:\n",
        "    f.write(tflite_quant_model)"
      ]
    },
    {
      "cell_type": "code",
      "source": [
        "# загрузка квантованной модели\n",
        "interpreter = tf.lite.Interpreter(model_path='mnist_model_quant.tflite')\n",
        "interpreter.allocate_tensors()\n",
        "\n",
        "# входные и выходные матрицы\n",
        "input_details = interpreter.get_input_details()\n",
        "output_details = interpreter.get_output_details()\n",
        "\n",
        "# оценка модели\n",
        "correct = 0\n",
        "total = 0\n",
        "\n",
        "for i in range(len(X_test)):\n",
        "    input_data = np.expand_dims(X_test[i], axis=0).astype(np.float32)\n",
        "    interpreter.set_tensor(input_details[0]['index'], input_data)\n",
        "    interpreter.invoke()\n",
        "    output_data = interpreter.get_tensor(output_details[0]['index'])\n",
        "    predicted_label = np.argmax(output_data)\n",
        "    true_label = y_test[i]\n",
        "    if predicted_label == true_label:\n",
        "        correct += 1\n",
        "    total += 1\n",
        "\n",
        "quantized_test_acc = correct / total\n",
        "print(f'Quantized Test accuracy: {quantized_test_acc * 100:.2f}%')"
      ],
      "metadata": {
        "colab": {
          "base_uri": "https://localhost:8080/"
        },
        "id": "13adB8_4FDAl",
        "outputId": "c7ca19f1-cbcf-40b4-f7be-4f90ce3a9065"
      },
      "execution_count": 30,
      "outputs": [
        {
          "output_type": "stream",
          "name": "stdout",
          "text": [
            "Quantized Test accuracy: 97.95%\n"
          ]
        }
      ]
    },
    {
      "cell_type": "markdown",
      "source": [
        "Сравним размеры моделей"
      ],
      "metadata": {
        "id": "-s-MfVjNHmPT"
      }
    },
    {
      "cell_type": "code",
      "source": [
        "import os\n",
        "\n",
        "unquantized_model_size = os.path.getsize('mnist_model.tflite')\n",
        "print(f'Unquantized model size: {unquantized_model_size} bytes')"
      ],
      "metadata": {
        "colab": {
          "base_uri": "https://localhost:8080/"
        },
        "id": "t7Wn4cXuHojJ",
        "outputId": "df2108b4-1640-4046-d81c-69d560a72507"
      },
      "execution_count": 31,
      "outputs": [
        {
          "output_type": "stream",
          "name": "stdout",
          "text": [
            "Unquantized model size: 408792 bytes\n"
          ]
        }
      ]
    },
    {
      "cell_type": "code",
      "source": [
        "quantized_model_size = os.path.getsize('mnist_model_quant.tflite')\n",
        "print(f'Unquantized model size: {unquantized_model_size} bytes')"
      ],
      "metadata": {
        "colab": {
          "base_uri": "https://localhost:8080/"
        },
        "id": "SANTasM4I1aq",
        "outputId": "0b5b2dc7-7a32-42d6-c0ad-9c4a39cfa9c1"
      },
      "execution_count": 32,
      "outputs": [
        {
          "output_type": "stream",
          "name": "stdout",
          "text": [
            "Unquantized model size: 408792 bytes\n"
          ]
        }
      ]
    },
    {
      "cell_type": "markdown",
      "source": [
        "Сравним скорость инференса"
      ],
      "metadata": {
        "id": "vHfKSr3UJ3vR"
      }
    },
    {
      "cell_type": "code",
      "source": [
        "import time\n",
        "\n",
        "interpreter_unquantized = tf.lite.Interpreter(model_path='mnist_model.tflite')\n",
        "interpreter_unquantized.allocate_tensors()\n",
        "\n",
        "input_details_unquantized = interpreter_unquantized.get_input_details()\n",
        "output_details_unquantized = interpreter_unquantized.get_output_details()\n",
        "\n",
        "# измеряем время инференса\n",
        "start_time = time.time()\n",
        "for i in range(len(X_test)):\n",
        "    input_data = np.expand_dims(X_test[i], axis=0).astype(np.float32)\n",
        "    interpreter_unquantized.set_tensor(input_details_unquantized[0]['index'], input_data)\n",
        "    interpreter_unquantized.invoke()\n",
        "end_time = time.time()\n",
        "\n",
        "unquantized_inference_time = end_time - start_time\n",
        "print(f'Unquantized model inference time: {unquantized_inference_time:.4f} seconds')"
      ],
      "metadata": {
        "colab": {
          "base_uri": "https://localhost:8080/"
        },
        "id": "emeIRF5MI57G",
        "outputId": "841eb001-d54a-4ff6-e061-fe4038cd62fc"
      },
      "execution_count": 33,
      "outputs": [
        {
          "output_type": "stream",
          "name": "stdout",
          "text": [
            "Unquantized model inference time: 0.9270 seconds\n"
          ]
        }
      ]
    },
    {
      "cell_type": "code",
      "source": [
        "interpreter_quantized = tf.lite.Interpreter(model_path='mnist_model_quant.tflite')\n",
        "interpreter_quantized.allocate_tensors()\n",
        "\n",
        "input_details_quantized = interpreter_quantized.get_input_details()\n",
        "output_details_quantized = interpreter_quantized.get_output_details()\n",
        "\n",
        "start_time = time.time()\n",
        "for i in range(len(X_test)):\n",
        "    input_data = np.expand_dims(X_test[i], axis=0).astype(np.float32)\n",
        "    interpreter_quantized.set_tensor(input_details_quantized[0]['index'], input_data)\n",
        "    interpreter_quantized.invoke()\n",
        "end_time = time.time()\n",
        "\n",
        "quantized_inference_time = end_time - start_time\n",
        "print(f'Quantized model inference time: {quantized_inference_time:.4f} seconds')"
      ],
      "metadata": {
        "colab": {
          "base_uri": "https://localhost:8080/"
        },
        "id": "sbP51XJ-JSIR",
        "outputId": "ee457753-2f38-460a-f9b6-3e32e582b1aa"
      },
      "execution_count": 34,
      "outputs": [
        {
          "output_type": "stream",
          "name": "stdout",
          "text": [
            "Quantized model inference time: 0.2570 seconds\n"
          ]
        }
      ]
    },
    {
      "cell_type": "code",
      "source": [],
      "metadata": {
        "id": "2p0MJK_9JVNg"
      },
      "execution_count": null,
      "outputs": []
    }
  ],
  "metadata": {
    "colab": {
      "provenance": [],
      "include_colab_link": true
    },
    "kernelspec": {
      "display_name": "Python 3",
      "name": "python3"
    }
  },
  "nbformat": 4,
  "nbformat_minor": 0
}