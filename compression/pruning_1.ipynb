{
  "nbformat": 4,
  "nbformat_minor": 0,
  "metadata": {
    "colab": {
      "provenance": [],
      "authorship_tag": "ABX9TyNwPdYSXP+wJ9EsHZtmmjEG",
      "include_colab_link": true
    },
    "kernelspec": {
      "name": "python3",
      "display_name": "Python 3"
    },
    "language_info": {
      "name": "python"
    }
  },
  "cells": [
    {
      "cell_type": "markdown",
      "metadata": {
        "id": "view-in-github",
        "colab_type": "text"
      },
      "source": [
        "<a href=\"https://colab.research.google.com/github/vifirsanova/hse-python-course/blob/main/compression/pruning_1.ipynb\" target=\"_parent\"><img src=\"https://colab.research.google.com/assets/colab-badge.svg\" alt=\"Open In Colab\"/></a>"
      ]
    },
    {
      "cell_type": "code",
      "execution_count": 2,
      "metadata": {
        "colab": {
          "base_uri": "https://localhost:8080/"
        },
        "id": "4chKLRuCkvR4",
        "outputId": "319e57a4-ab2c-47db-e049-49ff7f41cea5"
      },
      "outputs": [
        {
          "output_type": "execute_result",
          "data": {
            "text/plain": [
              "Parameter containing:\n",
              "tensor([[-0.4985,  0.1800, -0.0991, -0.3820],\n",
              "        [-0.2174,  0.3692, -0.4659,  0.3047],\n",
              "        [ 0.1884,  0.3795, -0.0645,  0.3411],\n",
              "        [-0.3326,  0.4300,  0.2608, -0.4334],\n",
              "        [ 0.1554, -0.3963,  0.4014,  0.4443],\n",
              "        [-0.2775,  0.1160,  0.0037, -0.1249],\n",
              "        [ 0.0729,  0.1455, -0.0875, -0.4626],\n",
              "        [-0.4964, -0.4620, -0.1111,  0.3576]], requires_grad=True)"
            ]
          },
          "metadata": {},
          "execution_count": 2
        }
      ],
      "source": [
        "import torch, torch.nn as nn\n",
        "from torch.nn.utils import prune\n",
        "\n",
        "x = nn.Linear(4, 8) # линейный слой\n",
        "x.weight # веса до прунинга"
      ]
    },
    {
      "cell_type": "markdown",
      "source": [
        "**Прунинг** - это обнуление весов\n",
        "\n",
        "`amount` - доля весов, подлежащих обнулению\n",
        "\n",
        "Как мы ищем значения, которые ближе к 0?\n",
        "\n",
        "- по пороговому значению\n",
        "- с помощью регуляризации\n",
        "\n",
        "Регуляризация используется для увеличения значений отрицательных весов и уменьшения значений положительных весов, чтобы найти вектор, который ближе к нулю, на основе расчета расстояния между векторами. Здесь, позволяет найти значения, близкие к нулю, и обнулить их.\n",
        "\n",
        "`n` - значение `ord` для регуляризации:\n",
        "\n",
        "```\n",
        "sum(abs(x)**ord)**(1./ord)\n",
        "```\n",
        "\n",
        "`dim` - индекс (строки / столбцы)"
      ],
      "metadata": {
        "id": "2XTMZUTKmeaR"
      }
    },
    {
      "cell_type": "code",
      "source": [
        "y = prune.LnStructured(amount=0.5, n=1, dim=0)\n",
        "y.prune(x.weight) # прунинг"
      ],
      "metadata": {
        "colab": {
          "base_uri": "https://localhost:8080/"
        },
        "id": "Sr6Kk57JlJrZ",
        "outputId": "82056eb4-827c-4426-dd71-838c2cbc1eaa"
      },
      "execution_count": 8,
      "outputs": [
        {
          "output_type": "execute_result",
          "data": {
            "text/plain": [
              "tensor([[-0.0000,  0.0000, -0.0000, -0.0000],\n",
              "        [-0.2174,  0.3692, -0.4659,  0.3047],\n",
              "        [ 0.0000,  0.0000, -0.0000,  0.0000],\n",
              "        [-0.3326,  0.4300,  0.2608, -0.4334],\n",
              "        [ 0.1554, -0.3963,  0.4014,  0.4443],\n",
              "        [-0.0000,  0.0000,  0.0000, -0.0000],\n",
              "        [ 0.0000,  0.0000, -0.0000, -0.0000],\n",
              "        [-0.4964, -0.4620, -0.1111,  0.3576]], grad_fn=<MulBackward0>)"
            ]
          },
          "metadata": {},
          "execution_count": 8
        }
      ]
    },
    {
      "cell_type": "code",
      "source": [
        "y = prune.LnStructured(amount=0.5, n=1, dim=1)\n",
        "y.prune(x.weight) # прунинг"
      ],
      "metadata": {
        "colab": {
          "base_uri": "https://localhost:8080/"
        },
        "id": "eDH83zhgmA5W",
        "outputId": "cf8b9294-ac46-431c-b987-0618bbf9e29b"
      },
      "execution_count": 9,
      "outputs": [
        {
          "output_type": "execute_result",
          "data": {
            "text/plain": [
              "tensor([[-0.0000,  0.1800, -0.0000, -0.3820],\n",
              "        [-0.0000,  0.3692, -0.0000,  0.3047],\n",
              "        [ 0.0000,  0.3795, -0.0000,  0.3411],\n",
              "        [-0.0000,  0.4300,  0.0000, -0.4334],\n",
              "        [ 0.0000, -0.3963,  0.0000,  0.4443],\n",
              "        [-0.0000,  0.1160,  0.0000, -0.1249],\n",
              "        [ 0.0000,  0.1455, -0.0000, -0.4626],\n",
              "        [-0.0000, -0.4620, -0.0000,  0.3576]], grad_fn=<MulBackward0>)"
            ]
          },
          "metadata": {},
          "execution_count": 9
        }
      ]
    },
    {
      "cell_type": "code",
      "source": [
        "y = prune.LnStructured(amount=0.5, n=0, dim=1)\n",
        "y.prune(x.weight) # прунинг"
      ],
      "metadata": {
        "colab": {
          "base_uri": "https://localhost:8080/"
        },
        "id": "UzUZkiebmQrz",
        "outputId": "1e04fc96-a14e-4c7d-d4b6-0c0c7ff87352"
      },
      "execution_count": 16,
      "outputs": [
        {
          "output_type": "execute_result",
          "data": {
            "text/plain": [
              "tensor([[-0.0000,  0.0000, -0.0991, -0.3820],\n",
              "        [-0.0000,  0.0000, -0.4659,  0.3047],\n",
              "        [ 0.0000,  0.0000, -0.0645,  0.3411],\n",
              "        [-0.0000,  0.0000,  0.2608, -0.4334],\n",
              "        [ 0.0000, -0.0000,  0.4014,  0.4443],\n",
              "        [-0.0000,  0.0000,  0.0037, -0.1249],\n",
              "        [ 0.0000,  0.0000, -0.0875, -0.4626],\n",
              "        [-0.0000, -0.0000, -0.1111,  0.3576]], grad_fn=<MulBackward0>)"
            ]
          },
          "metadata": {},
          "execution_count": 16
        }
      ]
    },
    {
      "cell_type": "code",
      "source": [],
      "metadata": {
        "id": "NfKHDP_Onrpl"
      },
      "execution_count": null,
      "outputs": []
    }
  ]
}