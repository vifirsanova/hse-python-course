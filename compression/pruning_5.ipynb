{
  "nbformat": 4,
  "nbformat_minor": 0,
  "metadata": {
    "colab": {
      "provenance": [],
      "gpuType": "T4",
      "authorship_tag": "ABX9TyP62CgjOxPM9VIirMEymGw3",
      "include_colab_link": true
    },
    "kernelspec": {
      "name": "python3",
      "display_name": "Python 3"
    },
    "language_info": {
      "name": "python"
    },
    "accelerator": "GPU"
  },
  "cells": [
    {
      "cell_type": "markdown",
      "metadata": {
        "id": "view-in-github",
        "colab_type": "text"
      },
      "source": [
        "<a href=\"https://colab.research.google.com/github/vifirsanova/hse-python-course/blob/main/compression/pruning_5.ipynb\" target=\"_parent\"><img src=\"https://colab.research.google.com/assets/colab-badge.svg\" alt=\"Open In Colab\"/></a>"
      ]
    },
    {
      "cell_type": "code",
      "execution_count": 1,
      "metadata": {
        "id": "adsWgMcdnht_"
      },
      "outputs": [],
      "source": [
        "import torch\n",
        "import torch.nn as nn\n",
        "import torch.optim as optim\n",
        "import torch.nn.utils.prune as prune\n",
        "import torchvision\n",
        "import torchvision.transforms as transforms"
      ]
    },
    {
      "cell_type": "code",
      "source": [
        "device = torch.device(\"cuda\" if torch.cuda.is_available() else \"cpu\")"
      ],
      "metadata": {
        "id": "KlhW2y8tytGd"
      },
      "execution_count": 2,
      "outputs": []
    },
    {
      "cell_type": "code",
      "source": [
        "transform = transforms.Compose([transforms.ToTensor(), transforms.Normalize((0.5,), (0.5,))])\n",
        "trainset = torchvision.datasets.MNIST(root='./data', train=True, download=True, transform=transform)\n",
        "trainloader = torch.utils.data.DataLoader(trainset, batch_size=64, shuffle=True)\n",
        "testset = torchvision.datasets.MNIST(root='./data', train=False, download=True, transform=transform)\n",
        "testloader = torch.utils.data.DataLoader(testset, batch_size=64, shuffle=False)"
      ],
      "metadata": {
        "colab": {
          "base_uri": "https://localhost:8080/"
        },
        "id": "kMlJ5QACyyWw",
        "outputId": "80cbc263-62f7-40c1-88dc-6ad2bbda6fe7"
      },
      "execution_count": 3,
      "outputs": [
        {
          "output_type": "stream",
          "name": "stdout",
          "text": [
            "Downloading http://yann.lecun.com/exdb/mnist/train-images-idx3-ubyte.gz\n",
            "Failed to download (trying next):\n",
            "HTTP Error 403: Forbidden\n",
            "\n",
            "Downloading https://ossci-datasets.s3.amazonaws.com/mnist/train-images-idx3-ubyte.gz\n",
            "Downloading https://ossci-datasets.s3.amazonaws.com/mnist/train-images-idx3-ubyte.gz to ./data/MNIST/raw/train-images-idx3-ubyte.gz\n"
          ]
        },
        {
          "output_type": "stream",
          "name": "stderr",
          "text": [
            "100%|██████████| 9912422/9912422 [00:00<00:00, 15861145.81it/s]\n"
          ]
        },
        {
          "output_type": "stream",
          "name": "stdout",
          "text": [
            "Extracting ./data/MNIST/raw/train-images-idx3-ubyte.gz to ./data/MNIST/raw\n",
            "\n",
            "Downloading http://yann.lecun.com/exdb/mnist/train-labels-idx1-ubyte.gz\n",
            "Failed to download (trying next):\n",
            "HTTP Error 403: Forbidden\n",
            "\n",
            "Downloading https://ossci-datasets.s3.amazonaws.com/mnist/train-labels-idx1-ubyte.gz\n",
            "Downloading https://ossci-datasets.s3.amazonaws.com/mnist/train-labels-idx1-ubyte.gz to ./data/MNIST/raw/train-labels-idx1-ubyte.gz\n"
          ]
        },
        {
          "output_type": "stream",
          "name": "stderr",
          "text": [
            "100%|██████████| 28881/28881 [00:00<00:00, 507536.20it/s]\n"
          ]
        },
        {
          "output_type": "stream",
          "name": "stdout",
          "text": [
            "Extracting ./data/MNIST/raw/train-labels-idx1-ubyte.gz to ./data/MNIST/raw\n",
            "\n",
            "Downloading http://yann.lecun.com/exdb/mnist/t10k-images-idx3-ubyte.gz\n",
            "Failed to download (trying next):\n",
            "HTTP Error 403: Forbidden\n",
            "\n",
            "Downloading https://ossci-datasets.s3.amazonaws.com/mnist/t10k-images-idx3-ubyte.gz\n",
            "Downloading https://ossci-datasets.s3.amazonaws.com/mnist/t10k-images-idx3-ubyte.gz to ./data/MNIST/raw/t10k-images-idx3-ubyte.gz\n"
          ]
        },
        {
          "output_type": "stream",
          "name": "stderr",
          "text": [
            "100%|██████████| 1648877/1648877 [00:00<00:00, 4427045.99it/s]\n"
          ]
        },
        {
          "output_type": "stream",
          "name": "stdout",
          "text": [
            "Extracting ./data/MNIST/raw/t10k-images-idx3-ubyte.gz to ./data/MNIST/raw\n",
            "\n",
            "Downloading http://yann.lecun.com/exdb/mnist/t10k-labels-idx1-ubyte.gz\n",
            "Failed to download (trying next):\n",
            "HTTP Error 403: Forbidden\n",
            "\n",
            "Downloading https://ossci-datasets.s3.amazonaws.com/mnist/t10k-labels-idx1-ubyte.gz\n",
            "Downloading https://ossci-datasets.s3.amazonaws.com/mnist/t10k-labels-idx1-ubyte.gz to ./data/MNIST/raw/t10k-labels-idx1-ubyte.gz\n"
          ]
        },
        {
          "output_type": "stream",
          "name": "stderr",
          "text": [
            "100%|██████████| 4542/4542 [00:00<00:00, 885041.99it/s]\n"
          ]
        },
        {
          "output_type": "stream",
          "name": "stdout",
          "text": [
            "Extracting ./data/MNIST/raw/t10k-labels-idx1-ubyte.gz to ./data/MNIST/raw\n",
            "\n"
          ]
        }
      ]
    },
    {
      "cell_type": "code",
      "source": [
        "class MNISTModel(nn.Module):\n",
        "    def __init__(self):\n",
        "        super(MNISTModel, self).__init__()\n",
        "        self.fc1 = nn.Linear(28 * 28, 300)\n",
        "        self.fc2 = nn.Linear(300, 100)\n",
        "        self.fc3 = nn.Linear(100, 10)\n",
        "\n",
        "    def forward(self, x):\n",
        "        x = x.view(-1, 28 * 28)\n",
        "        x = torch.relu(self.fc1(x))\n",
        "        x = torch.relu(self.fc2(x))\n",
        "        x = self.fc3(x)\n",
        "        return x"
      ],
      "metadata": {
        "id": "-4lX77qoy3po"
      },
      "execution_count": 4,
      "outputs": []
    },
    {
      "cell_type": "code",
      "source": [
        "def train_model(model, trainloader, epochs=5):\n",
        "    criterion = nn.CrossEntropyLoss()\n",
        "    optimizer = optim.SGD(model.parameters(), lr=0.01, momentum=0.9)\n",
        "\n",
        "    model.train()\n",
        "    for epoch in range(epochs):\n",
        "        running_loss = 0.0\n",
        "        for images, labels in trainloader:\n",
        "            images, labels = images.to(device), labels.to(device)\n",
        "\n",
        "            optimizer.zero_grad()\n",
        "            outputs = model(images)\n",
        "            loss = criterion(outputs, labels)\n",
        "            loss.backward()\n",
        "            optimizer.step()\n",
        "            running_loss += loss.item()\n",
        "\n",
        "        print(f\"Epoch [{epoch + 1}/{epochs}], Loss: {running_loss / len(trainloader):.4f}\")\n",
        "\n",
        "def test_model(model, testloader):\n",
        "    model.eval()\n",
        "    correct = 0\n",
        "    total = 0\n",
        "    with torch.no_grad():\n",
        "        for images, labels in testloader:\n",
        "            images, labels = images.to(device), labels.to(device)  # Move to GPU/CPU\n",
        "            outputs = model(images)\n",
        "            _, predicted = torch.max(outputs, 1)\n",
        "            total += labels.size(0)\n",
        "            correct += (predicted == labels).sum().item()\n",
        "\n",
        "    accuracy = 100 * correct / total\n",
        "    print(f'Accuracy: {accuracy:.2f}%')\n",
        "    return accuracy"
      ],
      "metadata": {
        "id": "xa30xupdy_VP"
      },
      "execution_count": 5,
      "outputs": []
    },
    {
      "cell_type": "code",
      "source": [
        "def iterative_pruning(model, trainloader, testloader, prune_iterations, prune_amount=0.2):\n",
        "    for i in range(prune_iterations):\n",
        "        print(f\"\\nIteration {i+1} of pruning:\")\n",
        "\n",
        "        prune.l1_unstructured(model.fc1, name='weight', amount=prune_amount)\n",
        "        prune.l1_unstructured(model.fc2, name='weight', amount=prune_amount)\n",
        "\n",
        "        model.fc1.to(device)\n",
        "        model.fc2.to(device)\n",
        "\n",
        "        print(\"Retraining after pruning...\")\n",
        "        train_model(model, trainloader, epochs=2)\n",
        "\n",
        "        test_model(model, testloader)"
      ],
      "metadata": {
        "id": "J8TM672kzEQ3"
      },
      "execution_count": 6,
      "outputs": []
    },
    {
      "cell_type": "code",
      "source": [
        "def finalize_pruning(model):\n",
        "    prune.remove(model.fc1, 'weight')\n",
        "    prune.remove(model.fc2, 'weight')\n",
        "\n",
        "    print(\"\\nPruning finalized. Here are the weight statistics after final pruning:\")\n",
        "    print_weight_statistics(model.fc1, \"fc1\")\n",
        "    print_weight_statistics(model.fc2, \"fc2\")"
      ],
      "metadata": {
        "id": "psU03q6QzZHp"
      },
      "execution_count": 7,
      "outputs": []
    },
    {
      "cell_type": "code",
      "source": [
        "def print_weight_statistics(layer, name):\n",
        "    nonzero = torch.count_nonzero(layer.weight)\n",
        "    total = layer.weight.numel()\n",
        "    sparsity = 100 - (nonzero / total * 100)\n",
        "    print(f\"{name}: Non-zero weights: {nonzero}, Total weights: {total}, Sparsity: {sparsity:.2f}%\")"
      ],
      "metadata": {
        "id": "SyRkBg0AzcGv"
      },
      "execution_count": 8,
      "outputs": []
    },
    {
      "cell_type": "markdown",
      "source": [
        "1. случайная инициализация весов"
      ],
      "metadata": {
        "id": "PRc1Xrraze8_"
      }
    },
    {
      "cell_type": "code",
      "source": [
        "model = MNISTModel().to(device)"
      ],
      "metadata": {
        "id": "12qD5eAFzoyB"
      },
      "execution_count": 9,
      "outputs": []
    },
    {
      "cell_type": "markdown",
      "source": [
        "2. обучение"
      ],
      "metadata": {
        "id": "ltnV98Wnzmtu"
      }
    },
    {
      "cell_type": "code",
      "source": [
        "train_model(model, trainloader, epochs=5)"
      ],
      "metadata": {
        "colab": {
          "base_uri": "https://localhost:8080/"
        },
        "id": "SM_9ZPS2zq_J",
        "outputId": "901f68af-0ff5-4b87-edb0-a063d867d03f"
      },
      "execution_count": 10,
      "outputs": [
        {
          "output_type": "stream",
          "name": "stdout",
          "text": [
            "Epoch [1/5], Loss: 0.4096\n",
            "Epoch [2/5], Loss: 0.1635\n",
            "Epoch [3/5], Loss: 0.1152\n",
            "Epoch [4/5], Loss: 0.0905\n",
            "Epoch [5/5], Loss: 0.0772\n"
          ]
        }
      ]
    },
    {
      "cell_type": "code",
      "source": [
        "accuracy_initial = test_model(model, testloader)"
      ],
      "metadata": {
        "colab": {
          "base_uri": "https://localhost:8080/"
        },
        "id": "R60q-2BxzyHm",
        "outputId": "5a7163d7-1954-46b7-d790-288b5de5d8ff"
      },
      "execution_count": 11,
      "outputs": [
        {
          "output_type": "stream",
          "name": "stdout",
          "text": [
            "Accuracy: 97.37%\n"
          ]
        }
      ]
    },
    {
      "cell_type": "markdown",
      "source": [
        "3. итеративное обучение (прунинг + обучение)"
      ],
      "metadata": {
        "id": "r2hlXiVVzqcD"
      }
    },
    {
      "cell_type": "code",
      "source": [
        "prune_iterations = 3 # количество итераций\n",
        "prune_amount = 0.2 # pruning ratio\n",
        "\n",
        "iterative_pruning(model, trainloader, testloader, prune_iterations, prune_amount)"
      ],
      "metadata": {
        "colab": {
          "base_uri": "https://localhost:8080/"
        },
        "id": "KtAXB-ItzvmI",
        "outputId": "631fb4ab-e664-4a9b-81cc-cd3962fda093"
      },
      "execution_count": 12,
      "outputs": [
        {
          "output_type": "stream",
          "name": "stdout",
          "text": [
            "\n",
            "Iteration 1 of pruning:\n",
            "Retraining after pruning...\n",
            "Epoch [1/2], Loss: 0.0579\n",
            "Epoch [2/2], Loss: 0.0488\n",
            "Accuracy: 97.73%\n",
            "\n",
            "Iteration 2 of pruning:\n",
            "Retraining after pruning...\n",
            "Epoch [1/2], Loss: 0.0380\n",
            "Epoch [2/2], Loss: 0.0323\n",
            "Accuracy: 97.77%\n",
            "\n",
            "Iteration 3 of pruning:\n",
            "Retraining after pruning...\n",
            "Epoch [1/2], Loss: 0.0245\n",
            "Epoch [2/2], Loss: 0.0208\n",
            "Accuracy: 98.01%\n"
          ]
        }
      ]
    },
    {
      "cell_type": "markdown",
      "source": [
        "4. удаление маски прунинга (исходная инициализация) + ретрейн"
      ],
      "metadata": {
        "id": "4y7s8Fp4zu-I"
      }
    },
    {
      "cell_type": "code",
      "source": [
        "finalize_pruning(model)"
      ],
      "metadata": {
        "colab": {
          "base_uri": "https://localhost:8080/"
        },
        "id": "uMsZvVXy0Yef",
        "outputId": "6aca9333-8b5c-4a44-f94b-f8e6dc18322f"
      },
      "execution_count": 13,
      "outputs": [
        {
          "output_type": "stream",
          "name": "stdout",
          "text": [
            "\n",
            "Pruning finalized. Here are the weight statistics after final pruning:\n",
            "fc1: Non-zero weights: 120422, Total weights: 235200, Sparsity: 48.80%\n",
            "fc2: Non-zero weights: 15360, Total weights: 30000, Sparsity: 48.80%\n"
          ]
        }
      ]
    },
    {
      "cell_type": "markdown",
      "source": [
        "6. шаги 2-5, итеративно"
      ],
      "metadata": {
        "id": "urIpItd00jMH"
      }
    },
    {
      "cell_type": "code",
      "source": [
        "print(\"\\nFinal retraining after pruning:\")\n",
        "train_model(model, trainloader, epochs=5)\n",
        "\n",
        "print(\"Final testing after pruning:\")\n",
        "accuracy_final = test_model(model, testloader)\n",
        "\n",
        "print(f\"Accuracy before pruning: {accuracy_initial:.2f}%\")\n",
        "print(f\"Final accuracy after pruning: {accuracy_final:.2f}%\")"
      ],
      "metadata": {
        "colab": {
          "base_uri": "https://localhost:8080/"
        },
        "id": "Ht_oCvDVw9oM",
        "outputId": "cde241cf-243b-47fa-92aa-ec0c839c250a"
      },
      "execution_count": 14,
      "outputs": [
        {
          "output_type": "stream",
          "name": "stdout",
          "text": [
            "\n",
            "Final retraining after pruning:\n",
            "Epoch [1/5], Loss: 0.0328\n",
            "Epoch [2/5], Loss: 0.0317\n",
            "Epoch [3/5], Loss: 0.0265\n",
            "Epoch [4/5], Loss: 0.0235\n",
            "Epoch [5/5], Loss: 0.0208\n",
            "Final testing after pruning:\n",
            "Accuracy: 97.49%\n",
            "Accuracy before pruning: 97.37%\n",
            "Final accuracy after pruning: 97.49%\n"
          ]
        }
      ]
    }
  ]
}