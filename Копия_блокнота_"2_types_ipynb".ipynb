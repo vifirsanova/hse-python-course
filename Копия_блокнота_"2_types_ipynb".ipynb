{
  "nbformat": 4,
  "nbformat_minor": 0,
  "metadata": {
    "colab": {
      "provenance": [],
      "include_colab_link": true
    },
    "kernelspec": {
      "name": "python3",
      "display_name": "Python 3"
    },
    "language_info": {
      "name": "python"
    }
  },
  "cells": [
    {
      "cell_type": "markdown",
      "metadata": {
        "id": "view-in-github",
        "colab_type": "text"
      },
      "source": [
        "<a href=\"https://colab.research.google.com/github/raverinpuff/arina-hse-python-course/blob/main/%D0%9A%D0%BE%D0%BF%D0%B8%D1%8F_%D0%B1%D0%BB%D0%BE%D0%BA%D0%BD%D0%BE%D1%82%D0%B0_%222_types_ipynb%22.ipynb\" target=\"_parent\"><img src=\"https://colab.research.google.com/assets/colab-badge.svg\" alt=\"Open In Colab\"/></a>"
      ]
    },
    {
      "cell_type": "markdown",
      "source": [
        "(c) В.И. Фирсанова | 2024"
      ],
      "metadata": {
        "id": "LKJXB1rGMi22"
      }
    },
    {
      "cell_type": "markdown",
      "source": [
        "# Типы данных в Python\n",
        "\n",
        "1. **Числовые типы**:\n",
        "   - `int` integer, целое число `7`\n",
        "   - `float` число с плавающей точкой (десятичная дробь) `7.1`\n",
        "\n",
        "2. **Булевы перменные**:\n",
        "   - `Bool` Boolean, принимает значения `True` или `False`\n",
        "\n",
        "3. **Наборы, последовательности**:\n",
        "   - `str` string, строка `\"hello\"`\n",
        "   - `list`, список `[1, 7.1, \"hello\"]`, изменяемая последовательность\n",
        "    - *вложенный список* состоит из множества списков `[[0, 1, 2], [3, 4]]`\n",
        "   - `tuple`, кортеж `(1, 7.1, \"hello), неизменяемая последовательность\n",
        "    - в кортежах нельзя удалять, добавлять данные; они занимают меньше памяти\n",
        "   - `dict`, dictionary, словарь `{\"number\": 1, \"word\": \"hello\"}`, пары ключей и значений (key-query)\n",
        "    - в этом примере ключами будут `\"number\"` и `\"word\"`, а значениями - `1` и `\"hello\"`\n",
        "  - `set`, множество, неупорядоченный набор уникальных элементов `{1, 2, 3}`\n",
        "  - `frozenset`, неизменяемое множество (аналог кортежа по отношению к спискам)\n",
        "\n",
        "4. **None**:\n",
        "   - `None` можно использовать для создания пустого элемента, как плейсхолдер в функции, для проверки факта наличия объекта в переменной и т.д."
      ],
      "metadata": {
        "id": "fQaRb4FdiZXL"
      }
    },
    {
      "cell_type": "markdown",
      "source": [
        "Задачи\n",
        "\n",
        "1. Угадай число"
      ],
      "metadata": {
        "id": "M_S_1NbvB2ak"
      }
    },
    {
      "cell_type": "code",
      "source": [
        "import random # библиотека для генерации случайных чисел\n",
        "\n",
        "# генерируем случайное целое число (random integer) от 0 до 10\n",
        "# функция randint принимает два аргумента: диапазон генерации\n",
        "magic_number = random.randint(0, 10)\n",
        "\n",
        "# запросите у пользователя ввод числа\n",
        "user_number = input ('Введите число: ')\n",
        "\n",
        "if user_number == magic_number: # проверка на совпадение значений\n",
        "  print('Поздравляю, вы угадали!')\n",
        "else:\n",
        "  print('А вот и нет! Это число', magic_number)"
      ],
      "metadata": {
        "id": "l6Dwn2cDj_N9",
        "colab": {
          "base_uri": "https://localhost:8080/"
        },
        "outputId": "73ca4810-24c5-48bb-d767-9d7c12b517cd"
      },
      "execution_count": null,
      "outputs": [
        {
          "output_type": "stream",
          "name": "stdout",
          "text": [
            "Введите число: 5\n",
            "А вот и нет! Это число 8\n"
          ]
        }
      ]
    },
    {
      "cell_type": "markdown",
      "source": [
        "Обратите внимание на строку `print('А вот и нет! Это число', magic_number)`\n",
        "\n",
        "`print` может принимать несколько аргументов через запятую и выводить на экран их все!\n",
        "\n",
        "Используйте это в следующем задании.\n",
        "\n",
        "2. Приветствие"
      ],
      "metadata": {
        "id": "HU_ZGIkeAZfI"
      }
    },
    {
      "cell_type": "code",
      "source": [
        "# запросите у пользователя его имя\n",
        "# вспомните, чем input(int()) отличается от input()\n",
        "var=input ('Введите ваше имя: ')\n",
        "\n",
        "# выведите на экран любое приветствие для пользователя\n",
        "print ('Здравствуй,', var)"
      ],
      "metadata": {
        "colab": {
          "base_uri": "https://localhost:8080/"
        },
        "outputId": "757f210b-f510-46ea-f4a2-604ff1ea0640",
        "id": "y-PGiG7G_7lC"
      },
      "execution_count": null,
      "outputs": [
        {
          "output_type": "stream",
          "name": "stdout",
          "text": [
            "Введите ваше имя: гоша\n",
            "Здравствуй, гоша\n"
          ]
        }
      ]
    },
    {
      "cell_type": "code",
      "source": [
        "result=str=float(23)*1.8 + 32\n",
        "print (result)"
      ],
      "metadata": {
        "colab": {
          "base_uri": "https://localhost:8080/"
        },
        "id": "Ep8f68KdmS1T",
        "outputId": "85be51a8-eb4f-4f57-a4a2-648569228ac1"
      },
      "execution_count": null,
      "outputs": [
        {
          "output_type": "stream",
          "name": "stdout",
          "text": [
            "73.4\n"
          ]
        }
      ]
    },
    {
      "cell_type": "markdown",
      "source": [
        "3. Конвертер температур"
      ],
      "metadata": {
        "id": "A_FhYEiWCAVW"
      }
    },
    {
      "cell_type": "code",
      "source": [
        "# запросите у пользователя температуру в градусах Цельсия:\n",
        "# это должно быть дробное числом (float)\n",
        "var1=input('Введите температуру в градусах Цельсия: ')\n",
        "# конвертируйте температуру из градусов Цельсия в градусы Фаренгейта:\n",
        "# вспомните или найдите формулу и используйте арифметические операции python для расчетов\n",
        "var2=float(var1)*1.8 + 32\n",
        "# выведите результат на экран:\n",
        "# используйте любые текстовые формулировки, чтобы показать число,\n",
        "# которое вы получили от пользователя, и результат расчетов\n",
        "print('Температура в градусах Цельсия: ', var1)\n",
        "print('Температура в градусах Фаренгейта: ', var2)"
      ],
      "metadata": {
        "id": "0eRzO5hMkdIc",
        "colab": {
          "base_uri": "https://localhost:8080/"
        },
        "outputId": "6474d340-41de-4dea-8eaf-294202753bf2"
      },
      "execution_count": null,
      "outputs": [
        {
          "output_type": "stream",
          "name": "stdout",
          "text": [
            "Введите температуру в градусах Цельсия: 23\n",
            "Температура в градусах Цельсия:  23\n",
            "Температура в градусах Фаренгейта:  73\n"
          ]
        }
      ]
    },
    {
      "cell_type": "markdown",
      "source": [
        "Как вывести на экран несколько строк?\n",
        "\n",
        "- Можно вызвать `print` несколько раз\n",
        "\n",
        "```\n",
        "print('Вот первая строка')\n",
        "print('А это вторая строка')\n",
        "```\n",
        "- Можно использовать `\\n` - символ новой строки\n",
        "\n",
        "```\n",
        "print('Вот первая строка \\n А это вторая строка')\n",
        "```\n",
        "\n",
        "4. Округление и вывод с помощью новой строки"
      ],
      "metadata": {
        "id": "7ZiP0RJeEKXX"
      }
    },
    {
      "cell_type": "code",
      "source": [
        "# результат расчетов в задаче 3 сохранился в переменных\n",
        "# воспользуемся этим преимуществом!\n",
        "\n",
        "# округлите оба значения температур в градусах Цельсия и в градусах Фаргентейта\n",
        "# вы можете преобразовать результат к виду целого числа с помощью int(n); n - число для преобразования\n",
        "# либо воспользоваться функцией round(n, k), указав в аргументах функции количество знаков после запятой k\n",
        "# попробуйте оба варианта!\n",
        "var2=str=int(var2)\n",
        "var1=str=int(var1)\n",
        "print(int(var2), int(var1))\n",
        "print(round(var2, 2), round(var1, 2))\n",
        "\n",
        "# теперь выведите на экран оба числа\n",
        "# сделайте это в одну строчку кода:\n",
        "# используйте символ новой строки, подумайте, куда его добавить\n",
        "print ('Температура в градусах Цельсия:', var1, '\\nТемпература в градусах Фаренгейта:', var2)"
      ],
      "metadata": {
        "colab": {
          "base_uri": "https://localhost:8080/"
        },
        "id": "bUwEDGEFE2g2",
        "outputId": "05de9c93-2b6f-4658-ca68-208b1aa6d894"
      },
      "execution_count": null,
      "outputs": [
        {
          "output_type": "stream",
          "name": "stdout",
          "text": [
            "73 23\n",
            "73 23\n",
            "Температура в градусах Цельсия: 23 \n",
            "Температура в градусах Фаренгейта: 73\n"
          ]
        }
      ]
    },
    {
      "cell_type": "markdown",
      "source": [
        "В задании 4 нам может помочь свойство конкатенации строк.\n",
        "\n",
        "`print('Hello' + ' ' +'World')`\n",
        "\n",
        "Но сложение строки с числом невозможно в питоне. Что делать?\n",
        "\n",
        "5. Конвертирование типов данных"
      ],
      "metadata": {
        "id": "nqNeKzKIGi3J"
      }
    },
    {
      "cell_type": "code",
      "source": [
        "# преобразуйте округленные значения температур к виду строк, применив str(n),\n",
        "# где n - то, что вы хотите преобразовать к виду строки\n",
        "var1=23\n",
        "var2=73\n",
        "str(var1)\n",
        "str(var2)\n",
        "\n",
        "# выведите на экран результат:\n",
        "# используйте конкатенацию строк вместо запятой в функции print\n",
        "print (var1 + var2)"
      ],
      "metadata": {
        "colab": {
          "base_uri": "https://localhost:8080/"
        },
        "id": "us_bdGWcGxnN",
        "outputId": "6f82c0c3-5398-4f11-d541-e32281bad439"
      },
      "execution_count": null,
      "outputs": [
        {
          "output_type": "stream",
          "name": "stdout",
          "text": [
            "96\n"
          ]
        }
      ]
    },
    {
      "cell_type": "markdown",
      "source": [
        "Чтобы преобразовать один тип данных в другой, мы вызываем функцию, обозначающую этот тип.\n",
        "\n",
        "Закрепим новый материал.\n",
        "\n",
        "6. Калькулятор"
      ],
      "metadata": {
        "id": "spQ5uN3astAm"
      }
    },
    {
      "cell_type": "code",
      "source": [
        "# запросите у пользователя 2 целых числа\n",
        "# выполните операции сложения, вычитания, умножения и возведения каждого из чисел во вторую степень\n",
        "# выведите результат на экран\n",
        "\n",
        "var1=input('Введите первое число: ')\n",
        "var2=input('Введите второе число: ')\n",
        "print('Результат сложения: ', int(var1)+int(var2))\n",
        "print('Результат вычитания: ', int(var1)-int(var2))\n",
        "print('Результат умножения: ', int(var1)*int(var2))\n",
        "print('Результат возведения в степень первого числа: ', int(var1)**2)\n",
        "print('Результат возведения в степень второго числа: ', int(var2)**2)\n",
        "print('Ура, Арина --\\nМОЛОДЕЦ!')"
      ],
      "metadata": {
        "colab": {
          "base_uri": "https://localhost:8080/"
        },
        "id": "n7-Jm439sar_",
        "outputId": "198f9538-53c4-421f-d530-4b1728b2ef81"
      },
      "execution_count": null,
      "outputs": [
        {
          "output_type": "stream",
          "name": "stdout",
          "text": [
            "Введите первое число: 1\n",
            "Введите второе число: 2\n",
            "Результат сложения:  3\n",
            "Результат вычитания:  -1\n",
            "Результат умножения:  2\n",
            "Результат возведения в степень первого числа:  1\n",
            "Результат возведения в степень второго числа:  4\n",
            "Ура, Арина --\n",
            "МОЛОДЕЦ!\n"
          ]
        }
      ]
    },
    {
      "cell_type": "markdown",
      "source": [
        "7. Анкета"
      ],
      "metadata": {
        "id": "x73Q0mXOuY_A"
      }
    },
    {
      "cell_type": "code",
      "source": [
        "# вспомним множественное присваивание в python\n",
        "# a, b, c = 0, 1, 2\n",
        "# используйте множественное присваивание,\n",
        "# чтобы одной строчкой кода запросить у пользователя имя, возраст и профессию\n",
        "# выведите на экран полученную информацию\n",
        "input('Введите имя, возраст, профессию: ')"
      ],
      "metadata": {
        "colab": {
          "base_uri": "https://localhost:8080/",
          "height": 52
        },
        "id": "-I2KyU5CuF_q",
        "outputId": "dfe5bd91-9069-462c-82ff-79f27d5a8277"
      },
      "execution_count": null,
      "outputs": [
        {
          "name": "stdout",
          "output_type": "stream",
          "text": [
            "Введите имя, возраст, профессию: Jack, 78, marine\n"
          ]
        },
        {
          "output_type": "execute_result",
          "data": {
            "text/plain": [
              "'Jack, 78, marine'"
            ],
            "application/vnd.google.colaboratory.intrinsic+json": {
              "type": "string"
            }
          },
          "metadata": {},
          "execution_count": 13
        }
      ]
    },
    {
      "cell_type": "markdown",
      "source": [
        "8. Поменять местами переменные"
      ],
      "metadata": {
        "id": "yTqWtZfltMhg"
      }
    },
    {
      "cell_type": "code",
      "source": [
        "# множественное присваивание иногда очень полезно\n",
        "# запросите у пользователя две любые переменные\n",
        "# это может быть строка или число, на ваш выбор\n",
        "\n",
        "# поменяйте их местами одной строчкой кода:\n",
        "# запишите в первую переменную информацию из второй,\n",
        "# а во вторую переменную - информацию из первой, используя множественное присваивание\n",
        "\n",
        "# выведите на экран промежуточные и итоговые результаты\n",
        "\n",
        "var1=input('Напишите любое животное: ')\n",
        "var2=input('Напишите любой цветок: ')\n",
        "var2, var1 = var1, var2\n",
        "print (var1, var2)"
      ],
      "metadata": {
        "colab": {
          "base_uri": "https://localhost:8080/"
        },
        "id": "NTHA_bPbv8uX",
        "outputId": "6d8fb0eb-1e54-457d-e196-9f659698b136"
      },
      "execution_count": null,
      "outputs": [
        {
          "output_type": "stream",
          "name": "stdout",
          "text": [
            "Напишите любое животное: q\n",
            "Напишите любой цветок: i\n",
            "i q\n"
          ]
        }
      ]
    },
    {
      "cell_type": "markdown",
      "source": [
        "9. Дописать функцию"
      ],
      "metadata": {
        "id": "75A8BHaKv6Wl"
      }
    },
    {
      "cell_type": "code",
      "source": [
        "# чаще мы используем множественное присваивание в фунциональном программировании\n",
        "# например, эта функция считает сумму и произведение двух чисел\n",
        "# функция принимает на вход (почти как input!) 2 числа\n",
        "# эти числа запишутся в переменные a и b\n",
        "def sum_and_product(a, b):\n",
        "    # напишите здесь код для расчета суммы чисел a и b\n",
        "    total_sum = a+b\n",
        "    # а сюда допишите код для подсчета их произведения\n",
        "    product = a*b\n",
        "    # функция возвращает результат подсчета - два новых числа\n",
        "    return total_sum, product\n",
        "\n",
        "# настало время множественного присваивания\n",
        "# мы вызывает функцию sum_and_product и передаем ей в качестве аргументов два числа - 5 и 3\n",
        "# мы помним, что функция возвращает 2 новых числа,\n",
        "# поэтому результат работы одной функции мы записываем в две переменные: result_sum и result_product\n",
        "result_sum, result_product = sum_and_product(5, 3)\n",
        "\n",
        "# выведите на экран result_sum и result_product\n",
        "print (result_sum, result_product)"
      ],
      "metadata": {
        "colab": {
          "base_uri": "https://localhost:8080/"
        },
        "id": "rBnK8PXDxVRr",
        "outputId": "f8266106-bf79-462d-acec-2a19e1a71b07"
      },
      "execution_count": null,
      "outputs": [
        {
          "output_type": "stream",
          "name": "stdout",
          "text": [
            "8 15\n"
          ]
        }
      ]
    },
    {
      "cell_type": "markdown",
      "source": [
        "10. Строка и число"
      ],
      "metadata": {
        "id": "ZmO8j5ySxUO9"
      }
    },
    {
      "cell_type": "code",
      "source": [
        "# запросите у пользователя 2 числа, используйте str(input())\n",
        "# сложите два числа, не меняя тип данных, и выведите на экран результат\n",
        "# преобразуйте числа к виду нужного типа и снова сложите их, выведите результат\n",
        "\n",
        "# это задание нам уже знакомо:\n",
        "# попробуйте решить его питонично, используя как можно меньше строк кода\n",
        "# какие операции можно объединить?\n",
        "# в каких случаях нам не нужно создавать дополнительные переменные?\n",
        "\n",
        "a=str(input('Введите число: '))\n",
        "b=str(input('Введите ещё одно число: '))\n",
        "print(a+b)\n",
        "int(a)+int(b)"
      ],
      "metadata": {
        "colab": {
          "base_uri": "https://localhost:8080/"
        },
        "id": "XOt6ZUeDzFAJ",
        "outputId": "9c008045-90eb-4ab7-9261-777c177dde7b"
      },
      "execution_count": null,
      "outputs": [
        {
          "output_type": "stream",
          "name": "stdout",
          "text": [
            "Введите число: 2\n",
            "Введите ещё одно число: 3\n",
            "23\n"
          ]
        },
        {
          "output_type": "execute_result",
          "data": {
            "text/plain": [
              "5"
            ]
          },
          "metadata": {},
          "execution_count": 11
        }
      ]
    }
  ]
}